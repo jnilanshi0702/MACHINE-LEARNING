{
 "cells": [
  {
   "cell_type": "markdown",
   "id": "1d2d9c24-c4ed-4542-8ca2-68deddbb18d1",
   "metadata": {},
   "source": [
    "# NUMPY"
   ]
  },
  {
   "cell_type": "markdown",
   "id": "f8922d5a-c685-469d-86b2-2b4825ecd84d",
   "metadata": {},
   "source": [
    "## DAY2"
   ]
  },
  {
   "cell_type": "markdown",
   "id": "02db5987-9514-4b32-9668-97bb89080cff",
   "metadata": {},
   "source": [
    "* Agenda\n",
    "1. argmax,argmin\n",
    "2. null value creation\n",
    "3. mathematical operation"
   ]
  },
  {
   "cell_type": "code",
   "execution_count": 1,
   "id": "4c3d8b9e-513d-47eb-8981-48547e3ee555",
   "metadata": {},
   "outputs": [],
   "source": [
    "import numpy as np"
   ]
  },
  {
   "cell_type": "code",
   "execution_count": 2,
   "id": "c65ebbda-3295-43b5-868b-ef2bddeade24",
   "metadata": {},
   "outputs": [],
   "source": [
    "b=np.array([12,23,56,85,20,100,14])"
   ]
  },
  {
   "cell_type": "code",
   "execution_count": 3,
   "id": "467b69fb-0404-493b-88e1-a8d36f08f6bd",
   "metadata": {},
   "outputs": [
    {
     "data": {
      "text/plain": [
       "array([ 12,  23,  56,  85,  20, 100,  14])"
      ]
     },
     "execution_count": 3,
     "metadata": {},
     "output_type": "execute_result"
    }
   ],
   "source": [
    "b"
   ]
  },
  {
   "cell_type": "code",
   "execution_count": 4,
   "id": "89511da9-8216-450b-ae3c-59bea2eda0ac",
   "metadata": {},
   "outputs": [
    {
     "data": {
      "text/plain": [
       "1"
      ]
     },
     "execution_count": 4,
     "metadata": {},
     "output_type": "execute_result"
    }
   ],
   "source": [
    "b.ndim"
   ]
  },
  {
   "cell_type": "markdown",
   "id": "b60fab08-3ff1-470c-ab1d-aaee772328a8",
   "metadata": {},
   "source": [
    "## argmax and argmin"
   ]
  },
  {
   "cell_type": "code",
   "execution_count": 5,
   "id": "bc01224c-5596-499b-a74a-1361478c1d23",
   "metadata": {},
   "outputs": [
    {
     "data": {
      "text/plain": [
       "5"
      ]
     },
     "execution_count": 5,
     "metadata": {},
     "output_type": "execute_result"
    }
   ],
   "source": [
    "np.argmax(b)"
   ]
  },
  {
   "cell_type": "code",
   "execution_count": 6,
   "id": "000c823f-9ff3-4596-b829-54def5b073ce",
   "metadata": {},
   "outputs": [
    {
     "data": {
      "text/plain": [
       "0"
      ]
     },
     "execution_count": 6,
     "metadata": {},
     "output_type": "execute_result"
    }
   ],
   "source": [
    "np.argmin(b)"
   ]
  },
  {
   "cell_type": "code",
   "execution_count": 7,
   "id": "acc4cd1f-7a0b-4d78-a043-8e01f6c57be9",
   "metadata": {},
   "outputs": [],
   "source": [
    "c=np.array([[11,22,33,44],[10,20,30,40],[100,200,300,400],[55,66,77,88]])"
   ]
  },
  {
   "cell_type": "code",
   "execution_count": 8,
   "id": "1d18b9b2-ba7f-4de4-846a-b99cadea8c6a",
   "metadata": {},
   "outputs": [
    {
     "data": {
      "text/plain": [
       "array([[ 11,  22,  33,  44],\n",
       "       [ 10,  20,  30,  40],\n",
       "       [100, 200, 300, 400],\n",
       "       [ 55,  66,  77,  88]])"
      ]
     },
     "execution_count": 8,
     "metadata": {},
     "output_type": "execute_result"
    }
   ],
   "source": [
    "c"
   ]
  },
  {
   "cell_type": "code",
   "execution_count": 9,
   "id": "50a21550-6315-44ad-8748-fe67478f21e4",
   "metadata": {},
   "outputs": [
    {
     "data": {
      "text/plain": [
       "11"
      ]
     },
     "execution_count": 9,
     "metadata": {},
     "output_type": "execute_result"
    }
   ],
   "source": [
    "np.argmax(c)"
   ]
  },
  {
   "cell_type": "code",
   "execution_count": 10,
   "id": "ae374af0-b46a-402e-bd79-045ba893eb44",
   "metadata": {},
   "outputs": [
    {
     "data": {
      "text/plain": [
       "4"
      ]
     },
     "execution_count": 10,
     "metadata": {},
     "output_type": "execute_result"
    }
   ],
   "source": [
    "np.argmin(c)"
   ]
  },
  {
   "cell_type": "markdown",
   "id": "b5522d99-771f-4f86-8f5f-964e4773fca1",
   "metadata": {},
   "source": [
    "### print(np.argmax(c))\n",
    "print(np.argmin(c))"
   ]
  },
  {
   "cell_type": "markdown",
   "id": "f4f240b1-0276-46b7-89aa-67596585b12e",
   "metadata": {},
   "source": [
    "## NULL VALUE CREATION"
   ]
  },
  {
   "cell_type": "code",
   "execution_count": 15,
   "id": "d757ad7d-39a1-42d4-b361-6845ad932641",
   "metadata": {},
   "outputs": [],
   "source": [
    "n=np.array([[np.nan,56,10],[56,np.nan,10],[56,10,np.nan]])"
   ]
  },
  {
   "cell_type": "code",
   "execution_count": 16,
   "id": "62842a54-2406-473f-8b1d-ce2c7ce20780",
   "metadata": {},
   "outputs": [
    {
     "data": {
      "text/plain": [
       "array([[nan, 56., 10.],\n",
       "       [56., nan, 10.],\n",
       "       [56., 10., nan]])"
      ]
     },
     "execution_count": 16,
     "metadata": {},
     "output_type": "execute_result"
    }
   ],
   "source": [
    "n"
   ]
  },
  {
   "cell_type": "code",
   "execution_count": 17,
   "id": "d8cdf5bb-23fa-4f80-a576-b7e7162b1505",
   "metadata": {},
   "outputs": [],
   "source": [
    "n2=np.array([10,22,33,np.nan,56,77,np.nan,45,89,9,np.nan])"
   ]
  },
  {
   "cell_type": "code",
   "execution_count": 18,
   "id": "7290e91f-9744-406c-ac1c-29bde3ba94ca",
   "metadata": {},
   "outputs": [
    {
     "data": {
      "text/plain": [
       "array([10., 22., 33., nan, 56., 77., nan, 45., 89.,  9., nan])"
      ]
     },
     "execution_count": 18,
     "metadata": {},
     "output_type": "execute_result"
    }
   ],
   "source": [
    "n2"
   ]
  },
  {
   "cell_type": "markdown",
   "id": "d6e518b6-857f-447c-941e-6319f265f0f9",
   "metadata": {},
   "source": [
    "## MATHEMATICAL OPERATIONS"
   ]
  },
  {
   "cell_type": "code",
   "execution_count": 19,
   "id": "8bdcd02f-6267-4b1d-b2ea-915ff7238ffc",
   "metadata": {},
   "outputs": [],
   "source": [
    "s=np.array([1,2,3,4,5,6])"
   ]
  },
  {
   "cell_type": "code",
   "execution_count": 20,
   "id": "fab66c43-9866-4360-8bc7-76768d973eda",
   "metadata": {},
   "outputs": [
    {
     "data": {
      "text/plain": [
       "array([1, 2, 3, 4, 5, 6])"
      ]
     },
     "execution_count": 20,
     "metadata": {},
     "output_type": "execute_result"
    }
   ],
   "source": [
    "s"
   ]
  },
  {
   "cell_type": "code",
   "execution_count": 21,
   "id": "6a46359a-2d86-471e-9dff-671174b7d7bc",
   "metadata": {},
   "outputs": [
    {
     "data": {
      "text/plain": [
       "array([10, 20, 30, 40, 50, 60])"
      ]
     },
     "execution_count": 21,
     "metadata": {},
     "output_type": "execute_result"
    }
   ],
   "source": [
    "s*10"
   ]
  },
  {
   "cell_type": "code",
   "execution_count": 22,
   "id": "f8c73ab3-98a4-479c-bbca-fdac9566da5a",
   "metadata": {},
   "outputs": [
    {
     "data": {
      "text/plain": [
       "array([46, 47, 48, 49, 50, 51])"
      ]
     },
     "execution_count": 22,
     "metadata": {},
     "output_type": "execute_result"
    }
   ],
   "source": [
    "s+45"
   ]
  },
  {
   "cell_type": "code",
   "execution_count": 23,
   "id": "b2f518b3-77c7-4833-bbd1-cdbb9bb6f55c",
   "metadata": {},
   "outputs": [
    {
     "data": {
      "text/plain": [
       "array([1.        , 0.5       , 0.33333333, 0.25      , 0.2       ,\n",
       "       0.16666667])"
      ]
     },
     "execution_count": 23,
     "metadata": {},
     "output_type": "execute_result"
    }
   ],
   "source": [
    "1/s"
   ]
  },
  {
   "cell_type": "code",
   "execution_count": 24,
   "id": "c44afe99-b61f-4919-985a-a7aa539bb42c",
   "metadata": {},
   "outputs": [
    {
     "data": {
      "text/plain": [
       "21"
      ]
     },
     "execution_count": 24,
     "metadata": {},
     "output_type": "execute_result"
    }
   ],
   "source": [
    "np.sum(s)"
   ]
  },
  {
   "cell_type": "code",
   "execution_count": 25,
   "id": "098a3d5a-06f9-4b2a-8b04-f1bd7b2e65a8",
   "metadata": {},
   "outputs": [
    {
     "data": {
      "text/plain": [
       "array([[ 11,  22,  33,  44],\n",
       "       [ 10,  20,  30,  40],\n",
       "       [100, 200, 300, 400],\n",
       "       [ 55,  66,  77,  88]])"
      ]
     },
     "execution_count": 25,
     "metadata": {},
     "output_type": "execute_result"
    }
   ],
   "source": [
    "c"
   ]
  },
  {
   "cell_type": "code",
   "execution_count": 26,
   "id": "252494e3-cead-4eb1-9d6c-3a913959d550",
   "metadata": {},
   "outputs": [],
   "source": [
    "n=np.ravel(c)"
   ]
  },
  {
   "cell_type": "code",
   "execution_count": 27,
   "id": "a6fe57ee-a8e9-44de-9e01-498474ca86f0",
   "metadata": {},
   "outputs": [
    {
     "data": {
      "text/plain": [
       "1"
      ]
     },
     "execution_count": 27,
     "metadata": {},
     "output_type": "execute_result"
    }
   ],
   "source": [
    "n.ndim"
   ]
  },
  {
   "cell_type": "code",
   "execution_count": 28,
   "id": "d2bc5948-12f9-4612-b797-14ac26d923e2",
   "metadata": {},
   "outputs": [
    {
     "data": {
      "text/plain": [
       "3.5"
      ]
     },
     "execution_count": 28,
     "metadata": {},
     "output_type": "execute_result"
    }
   ],
   "source": [
    "s.mean()"
   ]
  },
  {
   "cell_type": "code",
   "execution_count": 29,
   "id": "8862948c-88d8-4bbc-81d7-f18395b9582a",
   "metadata": {},
   "outputs": [
    {
     "ename": "AttributeError",
     "evalue": "'numpy.ndarray' object has no attribute 'median'",
     "output_type": "error",
     "traceback": [
      "\u001b[1;31m---------------------------------------------------------------------------\u001b[0m",
      "\u001b[1;31mAttributeError\u001b[0m                            Traceback (most recent call last)",
      "Input \u001b[1;32mIn [29]\u001b[0m, in \u001b[0;36m<cell line: 1>\u001b[1;34m()\u001b[0m\n\u001b[1;32m----> 1\u001b[0m \u001b[43mn\u001b[49m\u001b[38;5;241;43m.\u001b[39;49m\u001b[43mmedian\u001b[49m()\n",
      "\u001b[1;31mAttributeError\u001b[0m: 'numpy.ndarray' object has no attribute 'median'"
     ]
    }
   ],
   "source": []
  },
  {
   "cell_type": "code",
   "execution_count": null,
   "id": "0949fa81-a9b2-49b5-88b5-73128be42371",
   "metadata": {},
   "outputs": [],
   "source": []
  }
 ],
 "metadata": {
  "kernelspec": {
   "display_name": "Python 3 (ipykernel)",
   "language": "python",
   "name": "python3"
  },
  "language_info": {
   "codemirror_mode": {
    "name": "ipython",
    "version": 3
   },
   "file_extension": ".py",
   "mimetype": "text/x-python",
   "name": "python",
   "nbconvert_exporter": "python",
   "pygments_lexer": "ipython3",
   "version": "3.9.12"
  }
 },
 "nbformat": 4,
 "nbformat_minor": 5
}
