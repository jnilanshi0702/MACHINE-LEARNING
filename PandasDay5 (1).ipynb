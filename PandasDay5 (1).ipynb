{
 "cells": [
  {
   "cell_type": "markdown",
   "id": "6fe2e7ad-6e31-42dc-8d23-be69b2bf9c47",
   "metadata": {},
   "source": [
    "# PANDAS"
   ]
  },
  {
   "cell_type": "markdown",
   "id": "c0646243-3cee-4031-90e5-d97abd68d299",
   "metadata": {},
   "source": [
    "## DAY 5"
   ]
  },
  {
   "cell_type": "markdown",
   "id": "c4d4ebff-3acd-411c-b17d-1b38b5912675",
   "metadata": {},
   "source": [
    "* AGENDA\n",
    "1. visualization\n",
    "2.DataFrame to json file\n",
    "3. DataFrame to csv file"
   ]
  },
  {
   "cell_type": "code",
   "execution_count": 1,
   "id": "5d79b4fc-39fb-4429-a1e3-88df918f4a9b",
   "metadata": {},
   "outputs": [],
   "source": [
    "import pandas as pd"
   ]
  },
  {
   "cell_type": "code",
   "execution_count": 2,
   "id": "3fdc70e6-da1c-46d0-9656-02b366e1d0fa",
   "metadata": {},
   "outputs": [],
   "source": [
    "import numpy as np"
   ]
  },
  {
   "cell_type": "code",
   "execution_count": 6,
   "id": "759abcf6-a0e6-4e55-842e-326834bd7585",
   "metadata": {},
   "outputs": [],
   "source": [
    "data={'id':['1','2','3','4','5','6','7','8'],\n",
    "      'name':['rachit','mansi','riddhi','isha','ishan','rehan','ruhan','rashi'],\n",
    "      'age':['19','19','34','16','13','15','17','19',]\n",
    "          }"
   ]
  },
  {
   "cell_type": "code",
   "execution_count": 7,
   "id": "9912b387-cf61-4e93-983c-104c463ea74b",
   "metadata": {},
   "outputs": [],
   "source": [
    "d1=pd.DataFrame(data)"
   ]
  },
  {
   "cell_type": "code",
   "execution_count": 8,
   "id": "b6cea2e4-28ee-4112-99d0-d2ea34de3328",
   "metadata": {},
   "outputs": [
    {
     "data": {
      "text/html": [
       "<div>\n",
       "<style scoped>\n",
       "    .dataframe tbody tr th:only-of-type {\n",
       "        vertical-align: middle;\n",
       "    }\n",
       "\n",
       "    .dataframe tbody tr th {\n",
       "        vertical-align: top;\n",
       "    }\n",
       "\n",
       "    .dataframe thead th {\n",
       "        text-align: right;\n",
       "    }\n",
       "</style>\n",
       "<table border=\"1\" class=\"dataframe\">\n",
       "  <thead>\n",
       "    <tr style=\"text-align: right;\">\n",
       "      <th></th>\n",
       "      <th>id</th>\n",
       "      <th>name</th>\n",
       "      <th>age</th>\n",
       "    </tr>\n",
       "  </thead>\n",
       "  <tbody>\n",
       "    <tr>\n",
       "      <th>0</th>\n",
       "      <td>1</td>\n",
       "      <td>rachit</td>\n",
       "      <td>19</td>\n",
       "    </tr>\n",
       "    <tr>\n",
       "      <th>1</th>\n",
       "      <td>2</td>\n",
       "      <td>mansi</td>\n",
       "      <td>19</td>\n",
       "    </tr>\n",
       "    <tr>\n",
       "      <th>2</th>\n",
       "      <td>3</td>\n",
       "      <td>riddhi</td>\n",
       "      <td>34</td>\n",
       "    </tr>\n",
       "    <tr>\n",
       "      <th>3</th>\n",
       "      <td>4</td>\n",
       "      <td>isha</td>\n",
       "      <td>16</td>\n",
       "    </tr>\n",
       "    <tr>\n",
       "      <th>4</th>\n",
       "      <td>5</td>\n",
       "      <td>ishan</td>\n",
       "      <td>13</td>\n",
       "    </tr>\n",
       "    <tr>\n",
       "      <th>5</th>\n",
       "      <td>6</td>\n",
       "      <td>rehan</td>\n",
       "      <td>15</td>\n",
       "    </tr>\n",
       "    <tr>\n",
       "      <th>6</th>\n",
       "      <td>7</td>\n",
       "      <td>ruhan</td>\n",
       "      <td>17</td>\n",
       "    </tr>\n",
       "    <tr>\n",
       "      <th>7</th>\n",
       "      <td>8</td>\n",
       "      <td>rashi</td>\n",
       "      <td>19</td>\n",
       "    </tr>\n",
       "  </tbody>\n",
       "</table>\n",
       "</div>"
      ],
      "text/plain": [
       "  id    name age\n",
       "0  1  rachit  19\n",
       "1  2   mansi  19\n",
       "2  3  riddhi  34\n",
       "3  4    isha  16\n",
       "4  5   ishan  13\n",
       "5  6   rehan  15\n",
       "6  7   ruhan  17\n",
       "7  8   rashi  19"
      ]
     },
     "execution_count": 8,
     "metadata": {},
     "output_type": "execute_result"
    }
   ],
   "source": [
    "d1"
   ]
  },
  {
   "cell_type": "code",
   "execution_count": 11,
   "id": "882319d4-7445-42e1-9bd2-7363ccadc19a",
   "metadata": {},
   "outputs": [],
   "source": [
    "d1.to_json('myjsonfile.json')   #the file looks like a nested dictionary"
   ]
  },
  {
   "cell_type": "code",
   "execution_count": 27,
   "id": "7eb026ba-3da4-4d89-98f0-4824912b7a3c",
   "metadata": {},
   "outputs": [],
   "source": [
    "d2=pd.read_json('myjsonfile.json') #this command will read the json file"
   ]
  },
  {
   "cell_type": "code",
   "execution_count": 13,
   "id": "2f08370c-db95-42b3-994f-07976af0203b",
   "metadata": {},
   "outputs": [
    {
     "data": {
      "text/html": [
       "<div>\n",
       "<style scoped>\n",
       "    .dataframe tbody tr th:only-of-type {\n",
       "        vertical-align: middle;\n",
       "    }\n",
       "\n",
       "    .dataframe tbody tr th {\n",
       "        vertical-align: top;\n",
       "    }\n",
       "\n",
       "    .dataframe thead th {\n",
       "        text-align: right;\n",
       "    }\n",
       "</style>\n",
       "<table border=\"1\" class=\"dataframe\">\n",
       "  <thead>\n",
       "    <tr style=\"text-align: right;\">\n",
       "      <th></th>\n",
       "      <th>id</th>\n",
       "      <th>name</th>\n",
       "      <th>age</th>\n",
       "    </tr>\n",
       "  </thead>\n",
       "  <tbody>\n",
       "    <tr>\n",
       "      <th>0</th>\n",
       "      <td>1</td>\n",
       "      <td>rachit</td>\n",
       "      <td>19</td>\n",
       "    </tr>\n",
       "    <tr>\n",
       "      <th>1</th>\n",
       "      <td>2</td>\n",
       "      <td>mansi</td>\n",
       "      <td>19</td>\n",
       "    </tr>\n",
       "    <tr>\n",
       "      <th>2</th>\n",
       "      <td>3</td>\n",
       "      <td>riddhi</td>\n",
       "      <td>34</td>\n",
       "    </tr>\n",
       "    <tr>\n",
       "      <th>3</th>\n",
       "      <td>4</td>\n",
       "      <td>isha</td>\n",
       "      <td>16</td>\n",
       "    </tr>\n",
       "    <tr>\n",
       "      <th>4</th>\n",
       "      <td>5</td>\n",
       "      <td>ishan</td>\n",
       "      <td>13</td>\n",
       "    </tr>\n",
       "    <tr>\n",
       "      <th>5</th>\n",
       "      <td>6</td>\n",
       "      <td>rehan</td>\n",
       "      <td>15</td>\n",
       "    </tr>\n",
       "    <tr>\n",
       "      <th>6</th>\n",
       "      <td>7</td>\n",
       "      <td>ruhan</td>\n",
       "      <td>17</td>\n",
       "    </tr>\n",
       "    <tr>\n",
       "      <th>7</th>\n",
       "      <td>8</td>\n",
       "      <td>rashi</td>\n",
       "      <td>19</td>\n",
       "    </tr>\n",
       "  </tbody>\n",
       "</table>\n",
       "</div>"
      ],
      "text/plain": [
       "   id    name  age\n",
       "0   1  rachit   19\n",
       "1   2   mansi   19\n",
       "2   3  riddhi   34\n",
       "3   4    isha   16\n",
       "4   5   ishan   13\n",
       "5   6   rehan   15\n",
       "6   7   ruhan   17\n",
       "7   8   rashi   19"
      ]
     },
     "execution_count": 13,
     "metadata": {},
     "output_type": "execute_result"
    }
   ],
   "source": [
    "d2"
   ]
  },
  {
   "cell_type": "code",
   "execution_count": 25,
   "id": "b1b7ec37-7af7-49fc-b17d-6011fac12c2f",
   "metadata": {},
   "outputs": [],
   "source": [
    "d1.to_csv('mycsvfile1.csv') #this command will convert the dataframe 1 to a csv file"
   ]
  },
  {
   "cell_type": "code",
   "execution_count": 26,
   "id": "ad113f85-da25-4405-9a44-4467926ce39a",
   "metadata": {},
   "outputs": [],
   "source": [
    "d3=pd.read_csv('mycsvfile1.csv')  #this command will read the csv file"
   ]
  },
  {
   "cell_type": "code",
   "execution_count": 17,
   "id": "3f6d442c-036e-4094-9508-0d0c3c7ecfe3",
   "metadata": {},
   "outputs": [
    {
     "data": {
      "text/html": [
       "<div>\n",
       "<style scoped>\n",
       "    .dataframe tbody tr th:only-of-type {\n",
       "        vertical-align: middle;\n",
       "    }\n",
       "\n",
       "    .dataframe tbody tr th {\n",
       "        vertical-align: top;\n",
       "    }\n",
       "\n",
       "    .dataframe thead th {\n",
       "        text-align: right;\n",
       "    }\n",
       "</style>\n",
       "<table border=\"1\" class=\"dataframe\">\n",
       "  <thead>\n",
       "    <tr style=\"text-align: right;\">\n",
       "      <th></th>\n",
       "      <th>Unnamed: 0</th>\n",
       "      <th>id</th>\n",
       "      <th>name</th>\n",
       "      <th>age</th>\n",
       "    </tr>\n",
       "  </thead>\n",
       "  <tbody>\n",
       "    <tr>\n",
       "      <th>0</th>\n",
       "      <td>0</td>\n",
       "      <td>1</td>\n",
       "      <td>rachit</td>\n",
       "      <td>19</td>\n",
       "    </tr>\n",
       "    <tr>\n",
       "      <th>1</th>\n",
       "      <td>1</td>\n",
       "      <td>2</td>\n",
       "      <td>mansi</td>\n",
       "      <td>19</td>\n",
       "    </tr>\n",
       "    <tr>\n",
       "      <th>2</th>\n",
       "      <td>2</td>\n",
       "      <td>3</td>\n",
       "      <td>riddhi</td>\n",
       "      <td>34</td>\n",
       "    </tr>\n",
       "    <tr>\n",
       "      <th>3</th>\n",
       "      <td>3</td>\n",
       "      <td>4</td>\n",
       "      <td>isha</td>\n",
       "      <td>16</td>\n",
       "    </tr>\n",
       "    <tr>\n",
       "      <th>4</th>\n",
       "      <td>4</td>\n",
       "      <td>5</td>\n",
       "      <td>ishan</td>\n",
       "      <td>13</td>\n",
       "    </tr>\n",
       "    <tr>\n",
       "      <th>5</th>\n",
       "      <td>5</td>\n",
       "      <td>6</td>\n",
       "      <td>rehan</td>\n",
       "      <td>15</td>\n",
       "    </tr>\n",
       "    <tr>\n",
       "      <th>6</th>\n",
       "      <td>6</td>\n",
       "      <td>7</td>\n",
       "      <td>ruhan</td>\n",
       "      <td>17</td>\n",
       "    </tr>\n",
       "    <tr>\n",
       "      <th>7</th>\n",
       "      <td>7</td>\n",
       "      <td>8</td>\n",
       "      <td>rashi</td>\n",
       "      <td>19</td>\n",
       "    </tr>\n",
       "  </tbody>\n",
       "</table>\n",
       "</div>"
      ],
      "text/plain": [
       "   Unnamed: 0  id    name  age\n",
       "0           0   1  rachit   19\n",
       "1           1   2   mansi   19\n",
       "2           2   3  riddhi   34\n",
       "3           3   4    isha   16\n",
       "4           4   5   ishan   13\n",
       "5           5   6   rehan   15\n",
       "6           6   7   ruhan   17\n",
       "7           7   8   rashi   19"
      ]
     },
     "execution_count": 17,
     "metadata": {},
     "output_type": "execute_result"
    }
   ],
   "source": [
    "d3"
   ]
  },
  {
   "cell_type": "code",
   "execution_count": 24,
   "id": "5642fef1-d425-4eaa-951e-c11c1405925b",
   "metadata": {},
   "outputs": [],
   "source": [
    "d1.to_html('myhtmlfile.html') #this command will convert the dataframe 1 to a html file"
   ]
  },
  {
   "cell_type": "code",
   "execution_count": 23,
   "id": "3c3b6aef-5bcf-48ff-8eca-762355a5cb97",
   "metadata": {},
   "outputs": [],
   "source": [
    "d3=pd.read_html('myhtmlfile.html') #this command will read the html file"
   ]
  },
  {
   "cell_type": "code",
   "execution_count": 22,
   "id": "58223976-3418-4767-85f6-963acc50a925",
   "metadata": {},
   "outputs": [
    {
     "data": {
      "text/plain": [
       "[   Unnamed: 0  id    name  age\n",
       " 0           0   1  rachit   19\n",
       " 1           1   2   mansi   19\n",
       " 2           2   3  riddhi   34\n",
       " 3           3   4    isha   16\n",
       " 4           4   5   ishan   13\n",
       " 5           5   6   rehan   15\n",
       " 6           6   7   ruhan   17\n",
       " 7           7   8   rashi   19]"
      ]
     },
     "execution_count": 22,
     "metadata": {},
     "output_type": "execute_result"
    }
   ],
   "source": [
    "d3"
   ]
  },
  {
   "cell_type": "markdown",
   "id": "e59d1c5e-067b-4a05-bcf1-64daf549e7ed",
   "metadata": {},
   "source": [
    "## LINSPACE "
   ]
  },
  {
   "cell_type": "code",
   "execution_count": 33,
   "id": "9ecac514-b702-4f7e-a096-cfdb2ba4ed7e",
   "metadata": {},
   "outputs": [],
   "source": [
    "a= np.linspace(1,10,5) # gives  5 evenly spaced values from 1 to 10 # spaces between the values are also similar"
   ]
  },
  {
   "cell_type": "code",
   "execution_count": 34,
   "id": "8a4114df-a582-4d63-ae6c-1bff4be8eb30",
   "metadata": {},
   "outputs": [
    {
     "data": {
      "text/plain": [
       "array([ 1.  ,  3.25,  5.5 ,  7.75, 10.  ])"
      ]
     },
     "execution_count": 34,
     "metadata": {},
     "output_type": "execute_result"
    }
   ],
   "source": [
    "a"
   ]
  },
  {
   "cell_type": "code",
   "execution_count": 38,
   "id": "427f394a-aede-49fb-97d6-e4afdbc9f2ef",
   "metadata": {},
   "outputs": [],
   "source": [
    "b= np.linspace(1,10,10) #distance between the values are same"
   ]
  },
  {
   "cell_type": "code",
   "execution_count": 39,
   "id": "8a14eda4-8540-48a1-ad84-3922936a92ad",
   "metadata": {},
   "outputs": [
    {
     "data": {
      "text/plain": [
       "array([ 1.,  2.,  3.,  4.,  5.,  6.,  7.,  8.,  9., 10.])"
      ]
     },
     "execution_count": 39,
     "metadata": {},
     "output_type": "execute_result"
    }
   ],
   "source": [
    "b"
   ]
  },
  {
   "cell_type": "code",
   "execution_count": null,
   "id": "8335881b-a3ad-4389-849e-5d3bb3b1b362",
   "metadata": {},
   "outputs": [],
   "source": []
  },
  {
   "cell_type": "code",
   "execution_count": null,
   "id": "a5d35124-0b59-449b-96e4-5ff36be84ec9",
   "metadata": {},
   "outputs": [],
   "source": []
  },
  {
   "cell_type": "code",
   "execution_count": null,
   "id": "a76f2ad7-f97d-428e-8b78-71a71e0feba2",
   "metadata": {},
   "outputs": [],
   "source": []
  },
  {
   "cell_type": "markdown",
   "id": "ef8d3628-2ada-48ed-a70a-d6bb95608631",
   "metadata": {},
   "source": [
    "# VISUALIZATION"
   ]
  },
  {
   "cell_type": "markdown",
   "id": "b952430e-1b6e-4b7f-b0fe-6db7f2f03146",
   "metadata": {},
   "source": [
    " THE DATA CAN BE UNDERSTOOD EASILY USING VISUALIZATION\n",
    "\n",
    "DATA PATTERN CAN ALSO BE UNDERSTOOD USING VISUALIZATION"
   ]
  },
  {
   "cell_type": "markdown",
   "id": "db599170-0775-4922-95c6-98f07829ba5a",
   "metadata": {},
   "source": [
    "## libraries used for visualization\n",
    "## 1. Pandas-> Basic Visualization\n",
    "## 2. Matplotlib\n",
    "## 3. SeaBorn->give extra look to graph\n",
    "## 4. Plotly->advanced visualization library of python "
   ]
  },
  {
   "cell_type": "markdown",
   "id": "3b7c9824-2a7b-4c94-8472-23dfc99c21ab",
   "metadata": {},
   "source": [
    "1. LINE GRAPH\n",
    "2. BAR GRAPH\n",
    "3. PYCHART\n",
    "4. HISTOGRAM\n",
    "5. PAIR PLOT\n",
    "6. STRIP PLOT\n",
    "7. COUNT PLOT\n",
    "8. BOX PLOT\n",
    "9. VIOLIN PLOT\n",
    "10. KDE PLOT\n",
    "11. SWARM PLOT\n",
    "12. AREA GRAPH\n",
    "13. SCATTER PLOT\n"
   ]
  },
  {
   "cell_type": "code",
   "execution_count": null,
   "id": "9c7d5e53-ddd5-4cb7-a04f-a6ea8c2ac954",
   "metadata": {},
   "outputs": [],
   "source": []
  }
 ],
 "metadata": {
  "kernelspec": {
   "display_name": "Python 3 (ipykernel)",
   "language": "python",
   "name": "python3"
  },
  "language_info": {
   "codemirror_mode": {
    "name": "ipython",
    "version": 3
   },
   "file_extension": ".py",
   "mimetype": "text/x-python",
   "name": "python",
   "nbconvert_exporter": "python",
   "pygments_lexer": "ipython3",
   "version": "3.9.12"
  }
 },
 "nbformat": 4,
 "nbformat_minor": 5
}
