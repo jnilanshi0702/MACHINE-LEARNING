{
 "cells": [
  {
   "cell_type": "code",
   "execution_count": 1,
   "id": "4994dcb3-376b-49a8-935d-c4f76d525aca",
   "metadata": {},
   "outputs": [],
   "source": [
    "import pandas as pd\n",
    "import numpy as np\n",
    "import matplotlib.pyplot as plt\n",
    "import seaborn as sns\n",
    "import warnings\n",
    "warnings.filterwarnings('ignore')\n",
    "%matplotlib inline"
   ]
  },
  {
   "cell_type": "code",
   "execution_count": 2,
   "id": "dee3cbec-3d51-4eea-ba92-e10cbfa43edf",
   "metadata": {},
   "outputs": [
    {
     "data": {
      "text/html": [
       "<div>\n",
       "<style scoped>\n",
       "    .dataframe tbody tr th:only-of-type {\n",
       "        vertical-align: middle;\n",
       "    }\n",
       "\n",
       "    .dataframe tbody tr th {\n",
       "        vertical-align: top;\n",
       "    }\n",
       "\n",
       "    .dataframe thead th {\n",
       "        text-align: right;\n",
       "    }\n",
       "</style>\n",
       "<table border=\"1\" class=\"dataframe\">\n",
       "  <thead>\n",
       "    <tr style=\"text-align: right;\">\n",
       "      <th></th>\n",
       "      <th>longitude</th>\n",
       "      <th>latitude</th>\n",
       "      <th>housing_median_age</th>\n",
       "      <th>total_rooms</th>\n",
       "      <th>total_bedrooms</th>\n",
       "      <th>population</th>\n",
       "      <th>households</th>\n",
       "      <th>median_income</th>\n",
       "      <th>median_house_value</th>\n",
       "      <th>ocean_proximity</th>\n",
       "    </tr>\n",
       "  </thead>\n",
       "  <tbody>\n",
       "    <tr>\n",
       "      <th>0</th>\n",
       "      <td>-122.23</td>\n",
       "      <td>37.88</td>\n",
       "      <td>41.0</td>\n",
       "      <td>880.0</td>\n",
       "      <td>129.0</td>\n",
       "      <td>322.0</td>\n",
       "      <td>126.0</td>\n",
       "      <td>8.3252</td>\n",
       "      <td>452600.0</td>\n",
       "      <td>NEAR BAY</td>\n",
       "    </tr>\n",
       "    <tr>\n",
       "      <th>1</th>\n",
       "      <td>-122.22</td>\n",
       "      <td>37.86</td>\n",
       "      <td>21.0</td>\n",
       "      <td>7099.0</td>\n",
       "      <td>1106.0</td>\n",
       "      <td>2401.0</td>\n",
       "      <td>1138.0</td>\n",
       "      <td>8.3014</td>\n",
       "      <td>358500.0</td>\n",
       "      <td>NEAR BAY</td>\n",
       "    </tr>\n",
       "    <tr>\n",
       "      <th>2</th>\n",
       "      <td>-122.24</td>\n",
       "      <td>37.85</td>\n",
       "      <td>52.0</td>\n",
       "      <td>1467.0</td>\n",
       "      <td>190.0</td>\n",
       "      <td>496.0</td>\n",
       "      <td>177.0</td>\n",
       "      <td>7.2574</td>\n",
       "      <td>352100.0</td>\n",
       "      <td>NEAR BAY</td>\n",
       "    </tr>\n",
       "    <tr>\n",
       "      <th>3</th>\n",
       "      <td>-122.25</td>\n",
       "      <td>37.85</td>\n",
       "      <td>52.0</td>\n",
       "      <td>1274.0</td>\n",
       "      <td>235.0</td>\n",
       "      <td>558.0</td>\n",
       "      <td>219.0</td>\n",
       "      <td>5.6431</td>\n",
       "      <td>341300.0</td>\n",
       "      <td>NEAR BAY</td>\n",
       "    </tr>\n",
       "    <tr>\n",
       "      <th>4</th>\n",
       "      <td>-122.25</td>\n",
       "      <td>37.85</td>\n",
       "      <td>52.0</td>\n",
       "      <td>1627.0</td>\n",
       "      <td>280.0</td>\n",
       "      <td>565.0</td>\n",
       "      <td>259.0</td>\n",
       "      <td>3.8462</td>\n",
       "      <td>342200.0</td>\n",
       "      <td>NEAR BAY</td>\n",
       "    </tr>\n",
       "  </tbody>\n",
       "</table>\n",
       "</div>"
      ],
      "text/plain": [
       "   longitude  latitude  housing_median_age  total_rooms  total_bedrooms  \\\n",
       "0    -122.23     37.88                41.0        880.0           129.0   \n",
       "1    -122.22     37.86                21.0       7099.0          1106.0   \n",
       "2    -122.24     37.85                52.0       1467.0           190.0   \n",
       "3    -122.25     37.85                52.0       1274.0           235.0   \n",
       "4    -122.25     37.85                52.0       1627.0           280.0   \n",
       "\n",
       "   population  households  median_income  median_house_value ocean_proximity  \n",
       "0       322.0       126.0         8.3252            452600.0        NEAR BAY  \n",
       "1      2401.0      1138.0         8.3014            358500.0        NEAR BAY  \n",
       "2       496.0       177.0         7.2574            352100.0        NEAR BAY  \n",
       "3       558.0       219.0         5.6431            341300.0        NEAR BAY  \n",
       "4       565.0       259.0         3.8462            342200.0        NEAR BAY  "
      ]
     },
     "execution_count": 2,
     "metadata": {},
     "output_type": "execute_result"
    }
   ],
   "source": [
    "df=pd.read_csv(r'housing.csv') #predict that the customer will renew the service or will leave it #target column=Exited\n",
    "df.head()"
   ]
  },
  {
   "cell_type": "code",
   "execution_count": 3,
   "id": "63125dea-1dae-4ace-85fb-af94ad50b42e",
   "metadata": {},
   "outputs": [
    {
     "data": {
      "text/html": [
       "<div>\n",
       "<style scoped>\n",
       "    .dataframe tbody tr th:only-of-type {\n",
       "        vertical-align: middle;\n",
       "    }\n",
       "\n",
       "    .dataframe tbody tr th {\n",
       "        vertical-align: top;\n",
       "    }\n",
       "\n",
       "    .dataframe thead th {\n",
       "        text-align: right;\n",
       "    }\n",
       "</style>\n",
       "<table border=\"1\" class=\"dataframe\">\n",
       "  <thead>\n",
       "    <tr style=\"text-align: right;\">\n",
       "      <th></th>\n",
       "      <th>longitude</th>\n",
       "      <th>latitude</th>\n",
       "      <th>housing_median_age</th>\n",
       "      <th>total_rooms</th>\n",
       "      <th>total_bedrooms</th>\n",
       "      <th>population</th>\n",
       "      <th>households</th>\n",
       "      <th>median_income</th>\n",
       "      <th>median_house_value</th>\n",
       "      <th>ocean_proximity</th>\n",
       "    </tr>\n",
       "  </thead>\n",
       "  <tbody>\n",
       "    <tr>\n",
       "      <th>20635</th>\n",
       "      <td>-121.09</td>\n",
       "      <td>39.48</td>\n",
       "      <td>25.0</td>\n",
       "      <td>1665.0</td>\n",
       "      <td>374.0</td>\n",
       "      <td>845.0</td>\n",
       "      <td>330.0</td>\n",
       "      <td>1.5603</td>\n",
       "      <td>78100.0</td>\n",
       "      <td>INLAND</td>\n",
       "    </tr>\n",
       "    <tr>\n",
       "      <th>20636</th>\n",
       "      <td>-121.21</td>\n",
       "      <td>39.49</td>\n",
       "      <td>18.0</td>\n",
       "      <td>697.0</td>\n",
       "      <td>150.0</td>\n",
       "      <td>356.0</td>\n",
       "      <td>114.0</td>\n",
       "      <td>2.5568</td>\n",
       "      <td>77100.0</td>\n",
       "      <td>INLAND</td>\n",
       "    </tr>\n",
       "    <tr>\n",
       "      <th>20637</th>\n",
       "      <td>-121.22</td>\n",
       "      <td>39.43</td>\n",
       "      <td>17.0</td>\n",
       "      <td>2254.0</td>\n",
       "      <td>485.0</td>\n",
       "      <td>1007.0</td>\n",
       "      <td>433.0</td>\n",
       "      <td>1.7000</td>\n",
       "      <td>92300.0</td>\n",
       "      <td>INLAND</td>\n",
       "    </tr>\n",
       "    <tr>\n",
       "      <th>20638</th>\n",
       "      <td>-121.32</td>\n",
       "      <td>39.43</td>\n",
       "      <td>18.0</td>\n",
       "      <td>1860.0</td>\n",
       "      <td>409.0</td>\n",
       "      <td>741.0</td>\n",
       "      <td>349.0</td>\n",
       "      <td>1.8672</td>\n",
       "      <td>84700.0</td>\n",
       "      <td>INLAND</td>\n",
       "    </tr>\n",
       "    <tr>\n",
       "      <th>20639</th>\n",
       "      <td>-121.24</td>\n",
       "      <td>39.37</td>\n",
       "      <td>16.0</td>\n",
       "      <td>2785.0</td>\n",
       "      <td>616.0</td>\n",
       "      <td>1387.0</td>\n",
       "      <td>530.0</td>\n",
       "      <td>2.3886</td>\n",
       "      <td>89400.0</td>\n",
       "      <td>INLAND</td>\n",
       "    </tr>\n",
       "  </tbody>\n",
       "</table>\n",
       "</div>"
      ],
      "text/plain": [
       "       longitude  latitude  housing_median_age  total_rooms  total_bedrooms  \\\n",
       "20635    -121.09     39.48                25.0       1665.0           374.0   \n",
       "20636    -121.21     39.49                18.0        697.0           150.0   \n",
       "20637    -121.22     39.43                17.0       2254.0           485.0   \n",
       "20638    -121.32     39.43                18.0       1860.0           409.0   \n",
       "20639    -121.24     39.37                16.0       2785.0           616.0   \n",
       "\n",
       "       population  households  median_income  median_house_value  \\\n",
       "20635       845.0       330.0         1.5603             78100.0   \n",
       "20636       356.0       114.0         2.5568             77100.0   \n",
       "20637      1007.0       433.0         1.7000             92300.0   \n",
       "20638       741.0       349.0         1.8672             84700.0   \n",
       "20639      1387.0       530.0         2.3886             89400.0   \n",
       "\n",
       "      ocean_proximity  \n",
       "20635          INLAND  \n",
       "20636          INLAND  \n",
       "20637          INLAND  \n",
       "20638          INLAND  \n",
       "20639          INLAND  "
      ]
     },
     "execution_count": 3,
     "metadata": {},
     "output_type": "execute_result"
    }
   ],
   "source": [
    "df.tail()"
   ]
  },
  {
   "cell_type": "code",
   "execution_count": 4,
   "id": "e5147641-9889-45b6-a587-6913b43bac29",
   "metadata": {},
   "outputs": [
    {
     "data": {
      "text/plain": [
       "(20640, 10)"
      ]
     },
     "execution_count": 4,
     "metadata": {},
     "output_type": "execute_result"
    }
   ],
   "source": [
    "df.shape"
   ]
  },
  {
   "cell_type": "code",
   "execution_count": 5,
   "id": "fb97735d-dc8b-4507-9a21-ceba4fb00c11",
   "metadata": {},
   "outputs": [
    {
     "data": {
      "text/plain": [
       "Index(['longitude', 'latitude', 'housing_median_age', 'total_rooms',\n",
       "       'total_bedrooms', 'population', 'households', 'median_income',\n",
       "       'median_house_value', 'ocean_proximity'],\n",
       "      dtype='object')"
      ]
     },
     "execution_count": 5,
     "metadata": {},
     "output_type": "execute_result"
    }
   ],
   "source": [
    "df.columns"
   ]
  },
  {
   "cell_type": "code",
   "execution_count": 6,
   "id": "ea57cf3c-dde6-4830-8795-c9c079c1432b",
   "metadata": {},
   "outputs": [
    {
     "data": {
      "text/plain": [
       "206400"
      ]
     },
     "execution_count": 6,
     "metadata": {},
     "output_type": "execute_result"
    }
   ],
   "source": [
    "df.size"
   ]
  },
  {
   "cell_type": "code",
   "execution_count": 7,
   "id": "13080143-93ee-4a75-ad30-c5fce9df3dc5",
   "metadata": {},
   "outputs": [
    {
     "data": {
      "text/html": [
       "<div>\n",
       "<style scoped>\n",
       "    .dataframe tbody tr th:only-of-type {\n",
       "        vertical-align: middle;\n",
       "    }\n",
       "\n",
       "    .dataframe tbody tr th {\n",
       "        vertical-align: top;\n",
       "    }\n",
       "\n",
       "    .dataframe thead th {\n",
       "        text-align: right;\n",
       "    }\n",
       "</style>\n",
       "<table border=\"1\" class=\"dataframe\">\n",
       "  <thead>\n",
       "    <tr style=\"text-align: right;\">\n",
       "      <th></th>\n",
       "      <th>longitude</th>\n",
       "      <th>latitude</th>\n",
       "      <th>housing_median_age</th>\n",
       "      <th>total_rooms</th>\n",
       "      <th>total_bedrooms</th>\n",
       "      <th>population</th>\n",
       "      <th>households</th>\n",
       "      <th>median_income</th>\n",
       "      <th>median_house_value</th>\n",
       "    </tr>\n",
       "  </thead>\n",
       "  <tbody>\n",
       "    <tr>\n",
       "      <th>count</th>\n",
       "      <td>20640.000000</td>\n",
       "      <td>20640.000000</td>\n",
       "      <td>20640.000000</td>\n",
       "      <td>20640.000000</td>\n",
       "      <td>20433.000000</td>\n",
       "      <td>20640.000000</td>\n",
       "      <td>20640.000000</td>\n",
       "      <td>20640.000000</td>\n",
       "      <td>20640.000000</td>\n",
       "    </tr>\n",
       "    <tr>\n",
       "      <th>mean</th>\n",
       "      <td>-119.569704</td>\n",
       "      <td>35.631861</td>\n",
       "      <td>28.639486</td>\n",
       "      <td>2635.763081</td>\n",
       "      <td>537.870553</td>\n",
       "      <td>1425.476744</td>\n",
       "      <td>499.539680</td>\n",
       "      <td>3.870671</td>\n",
       "      <td>206855.816909</td>\n",
       "    </tr>\n",
       "    <tr>\n",
       "      <th>std</th>\n",
       "      <td>2.003532</td>\n",
       "      <td>2.135952</td>\n",
       "      <td>12.585558</td>\n",
       "      <td>2181.615252</td>\n",
       "      <td>421.385070</td>\n",
       "      <td>1132.462122</td>\n",
       "      <td>382.329753</td>\n",
       "      <td>1.899822</td>\n",
       "      <td>115395.615874</td>\n",
       "    </tr>\n",
       "    <tr>\n",
       "      <th>min</th>\n",
       "      <td>-124.350000</td>\n",
       "      <td>32.540000</td>\n",
       "      <td>1.000000</td>\n",
       "      <td>2.000000</td>\n",
       "      <td>1.000000</td>\n",
       "      <td>3.000000</td>\n",
       "      <td>1.000000</td>\n",
       "      <td>0.499900</td>\n",
       "      <td>14999.000000</td>\n",
       "    </tr>\n",
       "    <tr>\n",
       "      <th>25%</th>\n",
       "      <td>-121.800000</td>\n",
       "      <td>33.930000</td>\n",
       "      <td>18.000000</td>\n",
       "      <td>1447.750000</td>\n",
       "      <td>296.000000</td>\n",
       "      <td>787.000000</td>\n",
       "      <td>280.000000</td>\n",
       "      <td>2.563400</td>\n",
       "      <td>119600.000000</td>\n",
       "    </tr>\n",
       "    <tr>\n",
       "      <th>50%</th>\n",
       "      <td>-118.490000</td>\n",
       "      <td>34.260000</td>\n",
       "      <td>29.000000</td>\n",
       "      <td>2127.000000</td>\n",
       "      <td>435.000000</td>\n",
       "      <td>1166.000000</td>\n",
       "      <td>409.000000</td>\n",
       "      <td>3.534800</td>\n",
       "      <td>179700.000000</td>\n",
       "    </tr>\n",
       "    <tr>\n",
       "      <th>75%</th>\n",
       "      <td>-118.010000</td>\n",
       "      <td>37.710000</td>\n",
       "      <td>37.000000</td>\n",
       "      <td>3148.000000</td>\n",
       "      <td>647.000000</td>\n",
       "      <td>1725.000000</td>\n",
       "      <td>605.000000</td>\n",
       "      <td>4.743250</td>\n",
       "      <td>264725.000000</td>\n",
       "    </tr>\n",
       "    <tr>\n",
       "      <th>max</th>\n",
       "      <td>-114.310000</td>\n",
       "      <td>41.950000</td>\n",
       "      <td>52.000000</td>\n",
       "      <td>39320.000000</td>\n",
       "      <td>6445.000000</td>\n",
       "      <td>35682.000000</td>\n",
       "      <td>6082.000000</td>\n",
       "      <td>15.000100</td>\n",
       "      <td>500001.000000</td>\n",
       "    </tr>\n",
       "  </tbody>\n",
       "</table>\n",
       "</div>"
      ],
      "text/plain": [
       "          longitude      latitude  housing_median_age   total_rooms  \\\n",
       "count  20640.000000  20640.000000        20640.000000  20640.000000   \n",
       "mean    -119.569704     35.631861           28.639486   2635.763081   \n",
       "std        2.003532      2.135952           12.585558   2181.615252   \n",
       "min     -124.350000     32.540000            1.000000      2.000000   \n",
       "25%     -121.800000     33.930000           18.000000   1447.750000   \n",
       "50%     -118.490000     34.260000           29.000000   2127.000000   \n",
       "75%     -118.010000     37.710000           37.000000   3148.000000   \n",
       "max     -114.310000     41.950000           52.000000  39320.000000   \n",
       "\n",
       "       total_bedrooms    population    households  median_income  \\\n",
       "count    20433.000000  20640.000000  20640.000000   20640.000000   \n",
       "mean       537.870553   1425.476744    499.539680       3.870671   \n",
       "std        421.385070   1132.462122    382.329753       1.899822   \n",
       "min          1.000000      3.000000      1.000000       0.499900   \n",
       "25%        296.000000    787.000000    280.000000       2.563400   \n",
       "50%        435.000000   1166.000000    409.000000       3.534800   \n",
       "75%        647.000000   1725.000000    605.000000       4.743250   \n",
       "max       6445.000000  35682.000000   6082.000000      15.000100   \n",
       "\n",
       "       median_house_value  \n",
       "count        20640.000000  \n",
       "mean        206855.816909  \n",
       "std         115395.615874  \n",
       "min          14999.000000  \n",
       "25%         119600.000000  \n",
       "50%         179700.000000  \n",
       "75%         264725.000000  \n",
       "max         500001.000000  "
      ]
     },
     "execution_count": 7,
     "metadata": {},
     "output_type": "execute_result"
    }
   ],
   "source": [
    "df.describe()"
   ]
  },
  {
   "cell_type": "code",
   "execution_count": 8,
   "id": "0deb971b-9cd5-4236-bba4-e82907446f86",
   "metadata": {},
   "outputs": [
    {
     "data": {
      "text/plain": [
       "longitude               844\n",
       "latitude                862\n",
       "housing_median_age       52\n",
       "total_rooms            5926\n",
       "total_bedrooms         1923\n",
       "population             3888\n",
       "households             1815\n",
       "median_income         12928\n",
       "median_house_value     3842\n",
       "ocean_proximity           5\n",
       "dtype: int64"
      ]
     },
     "execution_count": 8,
     "metadata": {},
     "output_type": "execute_result"
    }
   ],
   "source": [
    "df.nunique()"
   ]
  },
  {
   "cell_type": "code",
   "execution_count": 9,
   "id": "902bf4ca-665e-49e1-bd3f-fddc770470d6",
   "metadata": {},
   "outputs": [
    {
     "data": {
      "text/plain": [
       "array(['NEAR BAY', '<1H OCEAN', 'INLAND', 'NEAR OCEAN', 'ISLAND'],\n",
       "      dtype=object)"
      ]
     },
     "execution_count": 9,
     "metadata": {},
     "output_type": "execute_result"
    }
   ],
   "source": [
    "df['ocean_proximity'].unique()"
   ]
  },
  {
   "cell_type": "code",
   "execution_count": 10,
   "id": "d1e61cdc-2a15-45d9-b6b2-85c534536681",
   "metadata": {},
   "outputs": [],
   "source": [
    "cc=['longitude', 'latitude', 'housing_median_age', 'total_rooms',\n",
    "       'total_bedrooms', 'population', 'households', 'median_income',\n",
    "       'median_house_value']"
   ]
  },
  {
   "cell_type": "code",
   "execution_count": 11,
   "id": "1c7bc026-6361-4eec-bd28-cf5fca85d7ba",
   "metadata": {},
   "outputs": [
    {
     "data": {
      "image/png": "[encoded data removed]",
      "text/plain": [
       "<Figure size 432x288 with 1 Axes>"
      ]
     },
     "metadata": {
      "needs_background": "light"
     },
     "output_type": "display_data"
    },
    {
     "data": {
      "image/png": "[encoded data removed]",
      "text/plain": [
       "<Figure size 432x288 with 1 Axes>"
      ]
     },
     "metadata": {
      "needs_background": "light"
     },
     "output_type": "display_data"
    },
    {
     "data": {
      "image/png": "[encoded data removed]",
      "text/plain": [
       "<Figure size 432x288 with 1 Axes>"
      ]
     },
     "metadata": {
      "needs_background": "light"
     },
     "output_type": "display_data"
    },
    {
     "data": {
      "image/png": "[encoded data removed]",
      "text/plain": [
       "<Figure size 432x288 with 1 Axes>"
      ]
     },
     "metadata": {
      "needs_background": "light"
     },
     "output_type": "display_data"
    },
    {
     "data": {
      "image/png": "[encoded data removed]",
      "text/plain": [
       "<Figure size 432x288 with 1 Axes>"
      ]
     },
     "metadata": {
      "needs_background": "light"
     },
     "output_type": "display_data"
    },
    {
     "data": {
      "image/png": "[encoded data removed]",
      "text/plain": [
       "<Figure size 432x288 with 1 Axes>"
      ]
     },
     "metadata": {
      "needs_background": "light"
     },
     "output_type": "display_data"
    },
    {
     "data": {
      "image/png": "[encoded data removed]",
      "text/plain": [
       "<Figure size 432x288 with 1 Axes>"
      ]
     },
     "metadata": {
      "needs_background": "light"
     },
     "output_type": "display_data"
    },
    {
     "data": {
      "image/png": "[encoded data removed]",
      "text/plain": [
       "<Figure size 432x288 with 1 Axes>"
      ]
     },
     "metadata": {
      "needs_background": "light"
     },
     "output_type": "display_data"
    },
    {
     "data": {
      "image/png": "[encoded data removed]",
      "text/plain": [
       "<Figure size 432x288 with 1 Axes>"
      ]
     },
     "metadata": {
      "needs_background": "light"
     },
     "output_type": "display_data"
    }
   ],
   "source": [
    "for i in cc:\n",
    "    sns.distplot(df[i])\n",
    "    plt.xlabel(i)\n",
    "    plt.ylabel(None)\n",
    "    plt.title('Distribution Plot of ' + i)\n",
    "    plt.show()"
   ]
  },
  {
   "cell_type": "code",
   "execution_count": 12,
   "id": "17facfad-b014-4724-acf1-b775ab17db19",
   "metadata": {},
   "outputs": [
    {
     "data": {
      "text/plain": [
       "<AxesSubplot:xlabel='ocean_proximity', ylabel='count'>"
      ]
     },
     "execution_count": 12,
     "metadata": {},
     "output_type": "execute_result"
    },
    {
     "data": {
      "image/png": "[encoded data removed]",
      "text/plain": [
       "<Figure size 432x288 with 1 Axes>"
      ]
     },
     "metadata": {
      "needs_background": "light"
     },
     "output_type": "display_data"
    }
   ],
   "source": [
    "sns.countplot('ocean_proximity',data=df)"
   ]
  },
  {
   "cell_type": "code",
   "execution_count": 13,
   "id": "a88da4b1-1f89-4b84-bcc3-3f0d62720163",
   "metadata": {},
   "outputs": [
    {
     "data": {
      "text/plain": [
       "longitude               0\n",
       "latitude                0\n",
       "housing_median_age      0\n",
       "total_rooms             0\n",
       "total_bedrooms        207\n",
       "population              0\n",
       "households              0\n",
       "median_income           0\n",
       "median_house_value      0\n",
       "ocean_proximity         0\n",
       "dtype: int64"
      ]
     },
     "execution_count": 13,
     "metadata": {},
     "output_type": "execute_result"
    }
   ],
   "source": [
    "df.isnull().sum()"
   ]
  },
  {
   "cell_type": "code",
   "execution_count": 14,
   "id": "70816810-6d1d-44bf-81d8-c4eb1651e096",
   "metadata": {},
   "outputs": [
    {
     "data": {
      "text/plain": [
       "longitude             0.000000\n",
       "latitude              0.000000\n",
       "housing_median_age    0.000000\n",
       "total_rooms           0.000000\n",
       "total_bedrooms        1.002907\n",
       "population            0.000000\n",
       "households            0.000000\n",
       "median_income         0.000000\n",
       "median_house_value    0.000000\n",
       "ocean_proximity       0.000000\n",
       "dtype: float64"
      ]
     },
     "execution_count": 14,
     "metadata": {},
     "output_type": "execute_result"
    }
   ],
   "source": [
    "#PERCENTAGE OF NULL VALUES IN EACH COLUMN\n",
    "df.isnull().sum()/df.shape[0]*100"
   ]
  },
  {
   "cell_type": "code",
   "execution_count": 15,
   "id": "7442a4ee-e5db-46ea-9234-08a59ce9d0b3",
   "metadata": {},
   "outputs": [],
   "source": [
    "df.dropna(inplace=True)"
   ]
  },
  {
   "cell_type": "code",
   "execution_count": 16,
   "id": "bce30b4e-064e-44dc-a25a-5bd502edfef2",
   "metadata": {},
   "outputs": [
    {
     "data": {
      "text/plain": [
       "longitude             0.0\n",
       "latitude              0.0\n",
       "housing_median_age    0.0\n",
       "total_rooms           0.0\n",
       "total_bedrooms        0.0\n",
       "population            0.0\n",
       "households            0.0\n",
       "median_income         0.0\n",
       "median_house_value    0.0\n",
       "ocean_proximity       0.0\n",
       "dtype: float64"
      ]
     },
     "execution_count": 16,
     "metadata": {},
     "output_type": "execute_result"
    }
   ],
   "source": [
    "df.isnull().sum()/df.shape[0]*100"
   ]
  },
  {
   "cell_type": "code",
   "execution_count": 17,
   "id": "0c63221a-1ca5-4925-8bcb-28f89fb50055",
   "metadata": {},
   "outputs": [
    {
     "data": {
      "text/html": [
       "<div>\n",
       "<style scoped>\n",
       "    .dataframe tbody tr th:only-of-type {\n",
       "        vertical-align: middle;\n",
       "    }\n",
       "\n",
       "    .dataframe tbody tr th {\n",
       "        vertical-align: top;\n",
       "    }\n",
       "\n",
       "    .dataframe thead th {\n",
       "        text-align: right;\n",
       "    }\n",
       "</style>\n",
       "<table border=\"1\" class=\"dataframe\">\n",
       "  <thead>\n",
       "    <tr style=\"text-align: right;\">\n",
       "      <th></th>\n",
       "      <th>longitude</th>\n",
       "      <th>latitude</th>\n",
       "      <th>housing_median_age</th>\n",
       "      <th>total_rooms</th>\n",
       "      <th>total_bedrooms</th>\n",
       "      <th>population</th>\n",
       "      <th>households</th>\n",
       "      <th>median_income</th>\n",
       "      <th>median_house_value</th>\n",
       "    </tr>\n",
       "  </thead>\n",
       "  <tbody>\n",
       "    <tr>\n",
       "      <th>longitude</th>\n",
       "      <td>1.000000</td>\n",
       "      <td>-0.924616</td>\n",
       "      <td>-0.109357</td>\n",
       "      <td>0.045480</td>\n",
       "      <td>0.069608</td>\n",
       "      <td>0.100270</td>\n",
       "      <td>0.056513</td>\n",
       "      <td>-0.015550</td>\n",
       "      <td>-0.045398</td>\n",
       "    </tr>\n",
       "    <tr>\n",
       "      <th>latitude</th>\n",
       "      <td>-0.924616</td>\n",
       "      <td>1.000000</td>\n",
       "      <td>0.011899</td>\n",
       "      <td>-0.036667</td>\n",
       "      <td>-0.066983</td>\n",
       "      <td>-0.108997</td>\n",
       "      <td>-0.071774</td>\n",
       "      <td>-0.079626</td>\n",
       "      <td>-0.144638</td>\n",
       "    </tr>\n",
       "    <tr>\n",
       "      <th>housing_median_age</th>\n",
       "      <td>-0.109357</td>\n",
       "      <td>0.011899</td>\n",
       "      <td>1.000000</td>\n",
       "      <td>-0.360628</td>\n",
       "      <td>-0.320451</td>\n",
       "      <td>-0.295787</td>\n",
       "      <td>-0.302768</td>\n",
       "      <td>-0.118278</td>\n",
       "      <td>0.106432</td>\n",
       "    </tr>\n",
       "    <tr>\n",
       "      <th>total_rooms</th>\n",
       "      <td>0.045480</td>\n",
       "      <td>-0.036667</td>\n",
       "      <td>-0.360628</td>\n",
       "      <td>1.000000</td>\n",
       "      <td>0.930380</td>\n",
       "      <td>0.857281</td>\n",
       "      <td>0.918992</td>\n",
       "      <td>0.197882</td>\n",
       "      <td>0.133294</td>\n",
       "    </tr>\n",
       "    <tr>\n",
       "      <th>total_bedrooms</th>\n",
       "      <td>0.069608</td>\n",
       "      <td>-0.066983</td>\n",
       "      <td>-0.320451</td>\n",
       "      <td>0.930380</td>\n",
       "      <td>1.000000</td>\n",
       "      <td>0.877747</td>\n",
       "      <td>0.979728</td>\n",
       "      <td>-0.007723</td>\n",
       "      <td>0.049686</td>\n",
       "    </tr>\n",
       "    <tr>\n",
       "      <th>population</th>\n",
       "      <td>0.100270</td>\n",
       "      <td>-0.108997</td>\n",
       "      <td>-0.295787</td>\n",
       "      <td>0.857281</td>\n",
       "      <td>0.877747</td>\n",
       "      <td>1.000000</td>\n",
       "      <td>0.907186</td>\n",
       "      <td>0.005087</td>\n",
       "      <td>-0.025300</td>\n",
       "    </tr>\n",
       "    <tr>\n",
       "      <th>households</th>\n",
       "      <td>0.056513</td>\n",
       "      <td>-0.071774</td>\n",
       "      <td>-0.302768</td>\n",
       "      <td>0.918992</td>\n",
       "      <td>0.979728</td>\n",
       "      <td>0.907186</td>\n",
       "      <td>1.000000</td>\n",
       "      <td>0.013434</td>\n",
       "      <td>0.064894</td>\n",
       "    </tr>\n",
       "    <tr>\n",
       "      <th>median_income</th>\n",
       "      <td>-0.015550</td>\n",
       "      <td>-0.079626</td>\n",
       "      <td>-0.118278</td>\n",
       "      <td>0.197882</td>\n",
       "      <td>-0.007723</td>\n",
       "      <td>0.005087</td>\n",
       "      <td>0.013434</td>\n",
       "      <td>1.000000</td>\n",
       "      <td>0.688355</td>\n",
       "    </tr>\n",
       "    <tr>\n",
       "      <th>median_house_value</th>\n",
       "      <td>-0.045398</td>\n",
       "      <td>-0.144638</td>\n",
       "      <td>0.106432</td>\n",
       "      <td>0.133294</td>\n",
       "      <td>0.049686</td>\n",
       "      <td>-0.025300</td>\n",
       "      <td>0.064894</td>\n",
       "      <td>0.688355</td>\n",
       "      <td>1.000000</td>\n",
       "    </tr>\n",
       "  </tbody>\n",
       "</table>\n",
       "</div>"
      ],
      "text/plain": [
       "                    longitude  latitude  housing_median_age  total_rooms  \\\n",
       "longitude            1.000000 -0.924616           -0.109357     0.045480   \n",
       "latitude            -0.924616  1.000000            0.011899    -0.036667   \n",
       "housing_median_age  -0.109357  0.011899            1.000000    -0.360628   \n",
       "total_rooms          0.045480 -0.036667           -0.360628     1.000000   \n",
       "total_bedrooms       0.069608 -0.066983           -0.320451     0.930380   \n",
       "population           0.100270 -0.108997           -0.295787     0.857281   \n",
       "households           0.056513 -0.071774           -0.302768     0.918992   \n",
       "median_income       -0.015550 -0.079626           -0.118278     0.197882   \n",
       "median_house_value  -0.045398 -0.144638            0.106432     0.133294   \n",
       "\n",
       "                    total_bedrooms  population  households  median_income  \\\n",
       "longitude                 0.069608    0.100270    0.056513      -0.015550   \n",
       "latitude                 -0.066983   -0.108997   -0.071774      -0.079626   \n",
       "housing_median_age       -0.320451   -0.295787   -0.302768      -0.118278   \n",
       "total_rooms               0.930380    0.857281    0.918992       0.197882   \n",
       "total_bedrooms            1.000000    0.877747    0.979728      -0.007723   \n",
       "population                0.877747    1.000000    0.907186       0.005087   \n",
       "households                0.979728    0.907186    1.000000       0.013434   \n",
       "median_income            -0.007723    0.005087    0.013434       1.000000   \n",
       "median_house_value        0.049686   -0.025300    0.064894       0.688355   \n",
       "\n",
       "                    median_house_value  \n",
       "longitude                    -0.045398  \n",
       "latitude                     -0.144638  \n",
       "housing_median_age            0.106432  \n",
       "total_rooms                   0.133294  \n",
       "total_bedrooms                0.049686  \n",
       "population                   -0.025300  \n",
       "households                    0.064894  \n",
       "median_income                 0.688355  \n",
       "median_house_value            1.000000  "
      ]
     },
     "execution_count": 17,
     "metadata": {},
     "output_type": "execute_result"
    }
   ],
   "source": [
    "df.corr()"
   ]
  },
  {
   "cell_type": "code",
   "execution_count": 18,
   "id": "f5649936-45c0-484a-9098-7726c6899fd6",
   "metadata": {},
   "outputs": [
    {
     "data": {
      "text/plain": [
       "<AxesSubplot:>"
      ]
     },
     "execution_count": 18,
     "metadata": {},
     "output_type": "execute_result"
    },
    {
     "data": {
      "image/png": "[encoded data removed]",
      "text/plain": [
       "<Figure size 576x432 with 2 Axes>"
      ]
     },
     "metadata": {
      "needs_background": "light"
     },
     "output_type": "display_data"
    }
   ],
   "source": [
    "plt.figure(figsize=(8,6))\n",
    "sns.heatmap(df.corr(),annot=True,fmt='0.1f')\n",
    "# FROM HERE WE SEE THAT POPULATION , TOTAL BEDROOM ,TOTAL ROOMS HOUSEHOLDS ARE HIGHLY CORRELATED"
   ]
  },
  {
   "cell_type": "code",
   "execution_count": 19,
   "id": "b8ab430f-9f3f-4ff4-a891-100c3bd11d2a",
   "metadata": {},
   "outputs": [],
   "source": [
    "df.drop(['population','total_bedrooms','latitude','households'],axis=1,inplace=True)  ## drop high correlation"
   ]
  },
  {
   "cell_type": "code",
   "execution_count": 20,
   "id": "16295383-9836-4c92-9ec6-9180d08df8fc",
   "metadata": {},
   "outputs": [
    {
     "data": {
      "text/html": [
       "<div>\n",
       "<style scoped>\n",
       "    .dataframe tbody tr th:only-of-type {\n",
       "        vertical-align: middle;\n",
       "    }\n",
       "\n",
       "    .dataframe tbody tr th {\n",
       "        vertical-align: top;\n",
       "    }\n",
       "\n",
       "    .dataframe thead th {\n",
       "        text-align: right;\n",
       "    }\n",
       "</style>\n",
       "<table border=\"1\" class=\"dataframe\">\n",
       "  <thead>\n",
       "    <tr style=\"text-align: right;\">\n",
       "      <th></th>\n",
       "      <th>longitude</th>\n",
       "      <th>housing_median_age</th>\n",
       "      <th>total_rooms</th>\n",
       "      <th>median_income</th>\n",
       "      <th>median_house_value</th>\n",
       "      <th>ocean_proximity</th>\n",
       "    </tr>\n",
       "  </thead>\n",
       "  <tbody>\n",
       "    <tr>\n",
       "      <th>0</th>\n",
       "      <td>-122.23</td>\n",
       "      <td>41.0</td>\n",
       "      <td>880.0</td>\n",
       "      <td>8.3252</td>\n",
       "      <td>452600.0</td>\n",
       "      <td>NEAR BAY</td>\n",
       "    </tr>\n",
       "    <tr>\n",
       "      <th>1</th>\n",
       "      <td>-122.22</td>\n",
       "      <td>21.0</td>\n",
       "      <td>7099.0</td>\n",
       "      <td>8.3014</td>\n",
       "      <td>358500.0</td>\n",
       "      <td>NEAR BAY</td>\n",
       "    </tr>\n",
       "    <tr>\n",
       "      <th>2</th>\n",
       "      <td>-122.24</td>\n",
       "      <td>52.0</td>\n",
       "      <td>1467.0</td>\n",
       "      <td>7.2574</td>\n",
       "      <td>352100.0</td>\n",
       "      <td>NEAR BAY</td>\n",
       "    </tr>\n",
       "    <tr>\n",
       "      <th>3</th>\n",
       "      <td>-122.25</td>\n",
       "      <td>52.0</td>\n",
       "      <td>1274.0</td>\n",
       "      <td>5.6431</td>\n",
       "      <td>341300.0</td>\n",
       "      <td>NEAR BAY</td>\n",
       "    </tr>\n",
       "    <tr>\n",
       "      <th>4</th>\n",
       "      <td>-122.25</td>\n",
       "      <td>52.0</td>\n",
       "      <td>1627.0</td>\n",
       "      <td>3.8462</td>\n",
       "      <td>342200.0</td>\n",
       "      <td>NEAR BAY</td>\n",
       "    </tr>\n",
       "  </tbody>\n",
       "</table>\n",
       "</div>"
      ],
      "text/plain": [
       "   longitude  housing_median_age  total_rooms  median_income  \\\n",
       "0    -122.23                41.0        880.0         8.3252   \n",
       "1    -122.22                21.0       7099.0         8.3014   \n",
       "2    -122.24                52.0       1467.0         7.2574   \n",
       "3    -122.25                52.0       1274.0         5.6431   \n",
       "4    -122.25                52.0       1627.0         3.8462   \n",
       "\n",
       "   median_house_value ocean_proximity  \n",
       "0            452600.0        NEAR BAY  \n",
       "1            358500.0        NEAR BAY  \n",
       "2            352100.0        NEAR BAY  \n",
       "3            341300.0        NEAR BAY  \n",
       "4            342200.0        NEAR BAY  "
      ]
     },
     "execution_count": 20,
     "metadata": {},
     "output_type": "execute_result"
    }
   ],
   "source": [
    "df.head()"
   ]
  },
  {
   "cell_type": "code",
   "execution_count": 21,
   "id": "3e3e3908-4d06-46ed-a92b-9399498d4f6c",
   "metadata": {},
   "outputs": [],
   "source": [
    "df = pd.get_dummies(df, drop_first=True)"
   ]
  },
  {
   "cell_type": "code",
   "execution_count": 22,
   "id": "2efa4a69-ecad-467e-b135-c8d436007a1d",
   "metadata": {},
   "outputs": [
    {
     "data": {
      "text/html": [
       "<div>\n",
       "<style scoped>\n",
       "    .dataframe tbody tr th:only-of-type {\n",
       "        vertical-align: middle;\n",
       "    }\n",
       "\n",
       "    .dataframe tbody tr th {\n",
       "        vertical-align: top;\n",
       "    }\n",
       "\n",
       "    .dataframe thead th {\n",
       "        text-align: right;\n",
       "    }\n",
       "</style>\n",
       "<table border=\"1\" class=\"dataframe\">\n",
       "  <thead>\n",
       "    <tr style=\"text-align: right;\">\n",
       "      <th></th>\n",
       "      <th>longitude</th>\n",
       "      <th>housing_median_age</th>\n",
       "      <th>total_rooms</th>\n",
       "      <th>median_income</th>\n",
       "      <th>median_house_value</th>\n",
       "      <th>ocean_proximity_INLAND</th>\n",
       "      <th>ocean_proximity_ISLAND</th>\n",
       "      <th>ocean_proximity_NEAR BAY</th>\n",
       "      <th>ocean_proximity_NEAR OCEAN</th>\n",
       "    </tr>\n",
       "  </thead>\n",
       "  <tbody>\n",
       "    <tr>\n",
       "      <th>0</th>\n",
       "      <td>-122.23</td>\n",
       "      <td>41.0</td>\n",
       "      <td>880.0</td>\n",
       "      <td>8.3252</td>\n",
       "      <td>452600.0</td>\n",
       "      <td>0</td>\n",
       "      <td>0</td>\n",
       "      <td>1</td>\n",
       "      <td>0</td>\n",
       "    </tr>\n",
       "    <tr>\n",
       "      <th>1</th>\n",
       "      <td>-122.22</td>\n",
       "      <td>21.0</td>\n",
       "      <td>7099.0</td>\n",
       "      <td>8.3014</td>\n",
       "      <td>358500.0</td>\n",
       "      <td>0</td>\n",
       "      <td>0</td>\n",
       "      <td>1</td>\n",
       "      <td>0</td>\n",
       "    </tr>\n",
       "    <tr>\n",
       "      <th>2</th>\n",
       "      <td>-122.24</td>\n",
       "      <td>52.0</td>\n",
       "      <td>1467.0</td>\n",
       "      <td>7.2574</td>\n",
       "      <td>352100.0</td>\n",
       "      <td>0</td>\n",
       "      <td>0</td>\n",
       "      <td>1</td>\n",
       "      <td>0</td>\n",
       "    </tr>\n",
       "    <tr>\n",
       "      <th>3</th>\n",
       "      <td>-122.25</td>\n",
       "      <td>52.0</td>\n",
       "      <td>1274.0</td>\n",
       "      <td>5.6431</td>\n",
       "      <td>341300.0</td>\n",
       "      <td>0</td>\n",
       "      <td>0</td>\n",
       "      <td>1</td>\n",
       "      <td>0</td>\n",
       "    </tr>\n",
       "    <tr>\n",
       "      <th>4</th>\n",
       "      <td>-122.25</td>\n",
       "      <td>52.0</td>\n",
       "      <td>1627.0</td>\n",
       "      <td>3.8462</td>\n",
       "      <td>342200.0</td>\n",
       "      <td>0</td>\n",
       "      <td>0</td>\n",
       "      <td>1</td>\n",
       "      <td>0</td>\n",
       "    </tr>\n",
       "    <tr>\n",
       "      <th>...</th>\n",
       "      <td>...</td>\n",
       "      <td>...</td>\n",
       "      <td>...</td>\n",
       "      <td>...</td>\n",
       "      <td>...</td>\n",
       "      <td>...</td>\n",
       "      <td>...</td>\n",
       "      <td>...</td>\n",
       "      <td>...</td>\n",
       "    </tr>\n",
       "    <tr>\n",
       "      <th>20635</th>\n",
       "      <td>-121.09</td>\n",
       "      <td>25.0</td>\n",
       "      <td>1665.0</td>\n",
       "      <td>1.5603</td>\n",
       "      <td>78100.0</td>\n",
       "      <td>1</td>\n",
       "      <td>0</td>\n",
       "      <td>0</td>\n",
       "      <td>0</td>\n",
       "    </tr>\n",
       "    <tr>\n",
       "      <th>20636</th>\n",
       "      <td>-121.21</td>\n",
       "      <td>18.0</td>\n",
       "      <td>697.0</td>\n",
       "      <td>2.5568</td>\n",
       "      <td>77100.0</td>\n",
       "      <td>1</td>\n",
       "      <td>0</td>\n",
       "      <td>0</td>\n",
       "      <td>0</td>\n",
       "    </tr>\n",
       "    <tr>\n",
       "      <th>20637</th>\n",
       "      <td>-121.22</td>\n",
       "      <td>17.0</td>\n",
       "      <td>2254.0</td>\n",
       "      <td>1.7000</td>\n",
       "      <td>92300.0</td>\n",
       "      <td>1</td>\n",
       "      <td>0</td>\n",
       "      <td>0</td>\n",
       "      <td>0</td>\n",
       "    </tr>\n",
       "    <tr>\n",
       "      <th>20638</th>\n",
       "      <td>-121.32</td>\n",
       "      <td>18.0</td>\n",
       "      <td>1860.0</td>\n",
       "      <td>1.8672</td>\n",
       "      <td>84700.0</td>\n",
       "      <td>1</td>\n",
       "      <td>0</td>\n",
       "      <td>0</td>\n",
       "      <td>0</td>\n",
       "    </tr>\n",
       "    <tr>\n",
       "      <th>20639</th>\n",
       "      <td>-121.24</td>\n",
       "      <td>16.0</td>\n",
       "      <td>2785.0</td>\n",
       "      <td>2.3886</td>\n",
       "      <td>89400.0</td>\n",
       "      <td>1</td>\n",
       "      <td>0</td>\n",
       "      <td>0</td>\n",
       "      <td>0</td>\n",
       "    </tr>\n",
       "  </tbody>\n",
       "</table>\n",
       "<p>20433 rows × 9 columns</p>\n",
       "</div>"
      ],
      "text/plain": [
       "       longitude  housing_median_age  total_rooms  median_income  \\\n",
       "0        -122.23                41.0        880.0         8.3252   \n",
       "1        -122.22                21.0       7099.0         8.3014   \n",
       "2        -122.24                52.0       1467.0         7.2574   \n",
       "3        -122.25                52.0       1274.0         5.6431   \n",
       "4        -122.25                52.0       1627.0         3.8462   \n",
       "...          ...                 ...          ...            ...   \n",
       "20635    -121.09                25.0       1665.0         1.5603   \n",
       "20636    -121.21                18.0        697.0         2.5568   \n",
       "20637    -121.22                17.0       2254.0         1.7000   \n",
       "20638    -121.32                18.0       1860.0         1.8672   \n",
       "20639    -121.24                16.0       2785.0         2.3886   \n",
       "\n",
       "       median_house_value  ocean_proximity_INLAND  ocean_proximity_ISLAND  \\\n",
       "0                452600.0                       0                       0   \n",
       "1                358500.0                       0                       0   \n",
       "2                352100.0                       0                       0   \n",
       "3                341300.0                       0                       0   \n",
       "4                342200.0                       0                       0   \n",
       "...                   ...                     ...                     ...   \n",
       "20635             78100.0                       1                       0   \n",
       "20636             77100.0                       1                       0   \n",
       "20637             92300.0                       1                       0   \n",
       "20638             84700.0                       1                       0   \n",
       "20639             89400.0                       1                       0   \n",
       "\n",
       "       ocean_proximity_NEAR BAY  ocean_proximity_NEAR OCEAN  \n",
       "0                             1                           0  \n",
       "1                             1                           0  \n",
       "2                             1                           0  \n",
       "3                             1                           0  \n",
       "4                             1                           0  \n",
       "...                         ...                         ...  \n",
       "20635                         0                           0  \n",
       "20636                         0                           0  \n",
       "20637                         0                           0  \n",
       "20638                         0                           0  \n",
       "20639                         0                           0  \n",
       "\n",
       "[20433 rows x 9 columns]"
      ]
     },
     "execution_count": 22,
     "metadata": {},
     "output_type": "execute_result"
    }
   ],
   "source": [
    "df"
   ]
  },
  {
   "cell_type": "code",
   "execution_count": 23,
   "id": "f5a4fc44-f0f1-4990-a803-71dc142d0fb1",
   "metadata": {},
   "outputs": [],
   "source": [
    "# DIVIDING THE DATSET TO X AND Y BASED ON OUR TARGET 'PRODTAKEN'\n",
    "x = df.drop(['median_house_value'],axis=1)\n",
    "y = df['median_house_value']"
   ]
  },
  {
   "cell_type": "code",
   "execution_count": 24,
   "id": "28386464-3be6-4f9e-b230-0eb90772e7d2",
   "metadata": {},
   "outputs": [
    {
     "data": {
      "text/html": [
       "<div>\n",
       "<style scoped>\n",
       "    .dataframe tbody tr th:only-of-type {\n",
       "        vertical-align: middle;\n",
       "    }\n",
       "\n",
       "    .dataframe tbody tr th {\n",
       "        vertical-align: top;\n",
       "    }\n",
       "\n",
       "    .dataframe thead th {\n",
       "        text-align: right;\n",
       "    }\n",
       "</style>\n",
       "<table border=\"1\" class=\"dataframe\">\n",
       "  <thead>\n",
       "    <tr style=\"text-align: right;\">\n",
       "      <th></th>\n",
       "      <th>longitude</th>\n",
       "      <th>housing_median_age</th>\n",
       "      <th>total_rooms</th>\n",
       "      <th>median_income</th>\n",
       "      <th>ocean_proximity_INLAND</th>\n",
       "      <th>ocean_proximity_ISLAND</th>\n",
       "      <th>ocean_proximity_NEAR BAY</th>\n",
       "      <th>ocean_proximity_NEAR OCEAN</th>\n",
       "    </tr>\n",
       "  </thead>\n",
       "  <tbody>\n",
       "    <tr>\n",
       "      <th>0</th>\n",
       "      <td>-122.23</td>\n",
       "      <td>41.0</td>\n",
       "      <td>880.0</td>\n",
       "      <td>8.3252</td>\n",
       "      <td>0</td>\n",
       "      <td>0</td>\n",
       "      <td>1</td>\n",
       "      <td>0</td>\n",
       "    </tr>\n",
       "    <tr>\n",
       "      <th>1</th>\n",
       "      <td>-122.22</td>\n",
       "      <td>21.0</td>\n",
       "      <td>7099.0</td>\n",
       "      <td>8.3014</td>\n",
       "      <td>0</td>\n",
       "      <td>0</td>\n",
       "      <td>1</td>\n",
       "      <td>0</td>\n",
       "    </tr>\n",
       "    <tr>\n",
       "      <th>2</th>\n",
       "      <td>-122.24</td>\n",
       "      <td>52.0</td>\n",
       "      <td>1467.0</td>\n",
       "      <td>7.2574</td>\n",
       "      <td>0</td>\n",
       "      <td>0</td>\n",
       "      <td>1</td>\n",
       "      <td>0</td>\n",
       "    </tr>\n",
       "    <tr>\n",
       "      <th>3</th>\n",
       "      <td>-122.25</td>\n",
       "      <td>52.0</td>\n",
       "      <td>1274.0</td>\n",
       "      <td>5.6431</td>\n",
       "      <td>0</td>\n",
       "      <td>0</td>\n",
       "      <td>1</td>\n",
       "      <td>0</td>\n",
       "    </tr>\n",
       "    <tr>\n",
       "      <th>4</th>\n",
       "      <td>-122.25</td>\n",
       "      <td>52.0</td>\n",
       "      <td>1627.0</td>\n",
       "      <td>3.8462</td>\n",
       "      <td>0</td>\n",
       "      <td>0</td>\n",
       "      <td>1</td>\n",
       "      <td>0</td>\n",
       "    </tr>\n",
       "    <tr>\n",
       "      <th>...</th>\n",
       "      <td>...</td>\n",
       "      <td>...</td>\n",
       "      <td>...</td>\n",
       "      <td>...</td>\n",
       "      <td>...</td>\n",
       "      <td>...</td>\n",
       "      <td>...</td>\n",
       "      <td>...</td>\n",
       "    </tr>\n",
       "    <tr>\n",
       "      <th>20635</th>\n",
       "      <td>-121.09</td>\n",
       "      <td>25.0</td>\n",
       "      <td>1665.0</td>\n",
       "      <td>1.5603</td>\n",
       "      <td>1</td>\n",
       "      <td>0</td>\n",
       "      <td>0</td>\n",
       "      <td>0</td>\n",
       "    </tr>\n",
       "    <tr>\n",
       "      <th>20636</th>\n",
       "      <td>-121.21</td>\n",
       "      <td>18.0</td>\n",
       "      <td>697.0</td>\n",
       "      <td>2.5568</td>\n",
       "      <td>1</td>\n",
       "      <td>0</td>\n",
       "      <td>0</td>\n",
       "      <td>0</td>\n",
       "    </tr>\n",
       "    <tr>\n",
       "      <th>20637</th>\n",
       "      <td>-121.22</td>\n",
       "      <td>17.0</td>\n",
       "      <td>2254.0</td>\n",
       "      <td>1.7000</td>\n",
       "      <td>1</td>\n",
       "      <td>0</td>\n",
       "      <td>0</td>\n",
       "      <td>0</td>\n",
       "    </tr>\n",
       "    <tr>\n",
       "      <th>20638</th>\n",
       "      <td>-121.32</td>\n",
       "      <td>18.0</td>\n",
       "      <td>1860.0</td>\n",
       "      <td>1.8672</td>\n",
       "      <td>1</td>\n",
       "      <td>0</td>\n",
       "      <td>0</td>\n",
       "      <td>0</td>\n",
       "    </tr>\n",
       "    <tr>\n",
       "      <th>20639</th>\n",
       "      <td>-121.24</td>\n",
       "      <td>16.0</td>\n",
       "      <td>2785.0</td>\n",
       "      <td>2.3886</td>\n",
       "      <td>1</td>\n",
       "      <td>0</td>\n",
       "      <td>0</td>\n",
       "      <td>0</td>\n",
       "    </tr>\n",
       "  </tbody>\n",
       "</table>\n",
       "<p>20433 rows × 8 columns</p>\n",
       "</div>"
      ],
      "text/plain": [
       "       longitude  housing_median_age  total_rooms  median_income  \\\n",
       "0        -122.23                41.0        880.0         8.3252   \n",
       "1        -122.22                21.0       7099.0         8.3014   \n",
       "2        -122.24                52.0       1467.0         7.2574   \n",
       "3        -122.25                52.0       1274.0         5.6431   \n",
       "4        -122.25                52.0       1627.0         3.8462   \n",
       "...          ...                 ...          ...            ...   \n",
       "20635    -121.09                25.0       1665.0         1.5603   \n",
       "20636    -121.21                18.0        697.0         2.5568   \n",
       "20637    -121.22                17.0       2254.0         1.7000   \n",
       "20638    -121.32                18.0       1860.0         1.8672   \n",
       "20639    -121.24                16.0       2785.0         2.3886   \n",
       "\n",
       "       ocean_proximity_INLAND  ocean_proximity_ISLAND  \\\n",
       "0                           0                       0   \n",
       "1                           0                       0   \n",
       "2                           0                       0   \n",
       "3                           0                       0   \n",
       "4                           0                       0   \n",
       "...                       ...                     ...   \n",
       "20635                       1                       0   \n",
       "20636                       1                       0   \n",
       "20637                       1                       0   \n",
       "20638                       1                       0   \n",
       "20639                       1                       0   \n",
       "\n",
       "       ocean_proximity_NEAR BAY  ocean_proximity_NEAR OCEAN  \n",
       "0                             1                           0  \n",
       "1                             1                           0  \n",
       "2                             1                           0  \n",
       "3                             1                           0  \n",
       "4                             1                           0  \n",
       "...                         ...                         ...  \n",
       "20635                         0                           0  \n",
       "20636                         0                           0  \n",
       "20637                         0                           0  \n",
       "20638                         0                           0  \n",
       "20639                         0                           0  \n",
       "\n",
       "[20433 rows x 8 columns]"
      ]
     },
     "execution_count": 24,
     "metadata": {},
     "output_type": "execute_result"
    }
   ],
   "source": [
    "x"
   ]
  },
  {
   "cell_type": "code",
   "execution_count": 25,
   "id": "37bcff01-79e0-44a7-af6f-9a1d1caa1d1e",
   "metadata": {},
   "outputs": [
    {
     "data": {
      "text/plain": [
       "0        452600.0\n",
       "1        358500.0\n",
       "2        352100.0\n",
       "3        341300.0\n",
       "4        342200.0\n",
       "           ...   \n",
       "20635     78100.0\n",
       "20636     77100.0\n",
       "20637     92300.0\n",
       "20638     84700.0\n",
       "20639     89400.0\n",
       "Name: median_house_value, Length: 20433, dtype: float64"
      ]
     },
     "execution_count": 25,
     "metadata": {},
     "output_type": "execute_result"
    }
   ],
   "source": [
    "y"
   ]
  },
  {
   "cell_type": "code",
   "execution_count": 26,
   "id": "e5064190-922e-4264-b8d0-8ac65ec9544e",
   "metadata": {},
   "outputs": [
    {
     "name": "stdout",
     "output_type": "stream",
     "text": [
      "X_train shape:(16346, 8)\n",
      "y_train shape:(16346,)\n",
      "X_test shape:(4087, 8)\n",
      "y_test shape:(4087,)\n"
     ]
    }
   ],
   "source": [
    "from sklearn.model_selection import train_test_split\n",
    "x_train,x_test,y_train,y_test=train_test_split(x,\n",
    "                                               y,\n",
    "                                               random_state=44,\n",
    "                                               test_size=0.2)\n",
    "\n",
    "print(\"X_train shape:{}\".format(x_train.shape))\n",
    "print(\"y_train shape:{}\".format(y_train.shape))\n",
    "print(\"X_test shape:{}\".format(x_test.shape))\n",
    "print(\"y_test shape:{}\".format(y_test.shape))"
   ]
  },
  {
   "cell_type": "code",
   "execution_count": 27,
   "id": "ee0af53d-353a-4208-9db9-1418fc14e909",
   "metadata": {},
   "outputs": [],
   "source": [
    "#AFTER TRAIN TEST SPLIT DO THIS\n",
    "# FEATURE SCALLING\n",
    "from sklearn.preprocessing import StandardScaler\n",
    "sc=StandardScaler()\n",
    "x_train=sc.fit_transform(x_train)\n",
    "x_test=sc.transform(x_test)"
   ]
  },
  {
   "cell_type": "code",
   "execution_count": 28,
   "id": "bc88ab3f-7d97-442c-a231-100be7d98064",
   "metadata": {},
   "outputs": [],
   "source": [
    "import keras\n",
    "from keras.models import Sequential\n",
    "from keras.layers import Dense"
   ]
  },
  {
   "cell_type": "code",
   "execution_count": 29,
   "id": "204fe933-e56d-497f-879e-2983c3e716a9",
   "metadata": {},
   "outputs": [
    {
     "data": {
      "text/plain": [
       "'2.9.0'"
      ]
     },
     "execution_count": 29,
     "metadata": {},
     "output_type": "execute_result"
    }
   ],
   "source": [
    "keras.__version__"
   ]
  },
  {
   "cell_type": "code",
   "execution_count": 38,
   "id": "d97659ae-4f10-4d70-8d8e-91c2d3cbb25c",
   "metadata": {},
   "outputs": [],
   "source": [
    "ann_reg=Sequential()"
   ]
  },
  {
   "cell_type": "code",
   "execution_count": 39,
   "id": "89224ad2-0354-4cca-85b7-1774bd404008",
   "metadata": {},
   "outputs": [],
   "source": [
    "ann_reg.add(Dense(activation='relu',input_dim=8,units=6,kernel_initializer='uniform')) #8 columns so input =6"
   ]
  },
  {
   "cell_type": "code",
   "execution_count": 40,
   "id": "2987c15b-42b6-4dcf-82bd-62e742109975",
   "metadata": {},
   "outputs": [],
   "source": [
    "ann_reg.add(Dense(activation='relu',units=6,kernel_initializer='uniform'))"
   ]
  },
  {
   "cell_type": "code",
   "execution_count": 41,
   "id": "b4a82dcf-0f90-490c-84a4-1db6562eae40",
   "metadata": {},
   "outputs": [],
   "source": [
    "ann_reg.add(Dense(activation='sigmoid',units=1,kernel_initializer='uniform'))"
   ]
  },
  {
   "cell_type": "code",
   "execution_count": 42,
   "id": "8d58a6ec-e673-4838-b4e4-3c2567ee7277",
   "metadata": {},
   "outputs": [],
   "source": [
    "ann_reg.compile(optimizer='adam',loss='mse',metrics=['mae'])"
   ]
  },
  {
   "cell_type": "code",
   "execution_count": 43,
   "id": "a0e9dd21-978c-45e9-9af0-a9e4f5837c9c",
   "metadata": {},
   "outputs": [
    {
     "name": "stdout",
     "output_type": "stream",
     "text": [
      "Model: \"sequential_1\"\n",
      "_________________________________________________________________\n",
      " Layer (type)                Output Shape              Param #   \n",
      "=================================================================\n",
      " dense_3 (Dense)             (None, 6)                 54        \n",
      "                                                                 \n",
      " dense_4 (Dense)             (None, 6)                 42        \n",
      "                                                                 \n",
      " dense_5 (Dense)             (None, 1)                 7         \n",
      "                                                                 \n",
      "=================================================================\n",
      "Total params: 103\n",
      "Trainable params: 103\n",
      "Non-trainable params: 0\n",
      "_________________________________________________________________\n"
     ]
    }
   ],
   "source": [
    "ann_reg.summary()"
   ]
  },
  {
   "cell_type": "code",
   "execution_count": 44,
   "id": "29d8a149-80ce-408c-9b69-51cf563f4327",
   "metadata": {},
   "outputs": [
    {
     "name": "stdout",
     "output_type": "stream",
     "text": [
      "Epoch 1/100\n",
      "343/343 [==============================] - 4s 6ms/step - loss: 55564042240.0000 - mae: 206082.5938 - val_loss: 56188076032.0000 - val_mae: 206705.0781\n",
      "Epoch 2/100\n",
      "343/343 [==============================] - 2s 5ms/step - loss: 55563956224.0000 - mae: 206082.5000 - val_loss: 56188067840.0000 - val_mae: 206705.0469\n",
      "Epoch 3/100\n",
      "343/343 [==============================] - 2s 5ms/step - loss: 55563964416.0000 - mae: 206082.4062 - val_loss: 56188067840.0000 - val_mae: 206705.0469\n",
      "Epoch 4/100\n",
      "343/343 [==============================] - 2s 5ms/step - loss: 55563980800.0000 - mae: 206082.4531 - val_loss: 56188067840.0000 - val_mae: 206705.0469\n",
      "Epoch 5/100\n",
      "343/343 [==============================] - 2s 5ms/step - loss: 55563976704.0000 - mae: 206082.4844 - val_loss: 56188067840.0000 - val_mae: 206705.0469\n",
      "Epoch 6/100\n",
      "343/343 [==============================] - 2s 5ms/step - loss: 55563976704.0000 - mae: 206082.4375 - val_loss: 56188067840.0000 - val_mae: 206705.0469\n",
      "Epoch 7/100\n",
      "343/343 [==============================] - 2s 5ms/step - loss: 55563976704.0000 - mae: 206082.4375 - val_loss: 56188067840.0000 - val_mae: 206705.0469\n",
      "Epoch 8/100\n",
      "343/343 [==============================] - 2s 5ms/step - loss: 55563988992.0000 - mae: 206082.5469 - val_loss: 56188067840.0000 - val_mae: 206705.0469\n",
      "Epoch 9/100\n",
      "343/343 [==============================] - 2s 5ms/step - loss: 55563939840.0000 - mae: 206082.3906 - val_loss: 56188067840.0000 - val_mae: 206705.0469\n",
      "Epoch 10/100\n",
      "343/343 [==============================] - 2s 5ms/step - loss: 55563993088.0000 - mae: 206082.4062 - val_loss: 56188067840.0000 - val_mae: 206705.0469\n",
      "Epoch 11/100\n",
      "343/343 [==============================] - 2s 5ms/step - loss: 55563980800.0000 - mae: 206082.4844 - val_loss: 56188067840.0000 - val_mae: 206705.0469\n",
      "Epoch 12/100\n",
      "343/343 [==============================] - 2s 5ms/step - loss: 55563993088.0000 - mae: 206082.5000 - val_loss: 56188067840.0000 - val_mae: 206705.0469\n",
      "Epoch 13/100\n",
      "343/343 [==============================] - 2s 5ms/step - loss: 55563952128.0000 - mae: 206082.4531 - val_loss: 56188067840.0000 - val_mae: 206705.0469\n",
      "Epoch 14/100\n",
      "343/343 [==============================] - 2s 5ms/step - loss: 55563952128.0000 - mae: 206082.4531 - val_loss: 56188067840.0000 - val_mae: 206705.0469\n",
      "Epoch 15/100\n",
      "343/343 [==============================] - 2s 5ms/step - loss: 55563927552.0000 - mae: 206082.4844 - val_loss: 56188067840.0000 - val_mae: 206705.0469\n",
      "Epoch 16/100\n",
      "343/343 [==============================] - 2s 5ms/step - loss: 55563952128.0000 - mae: 206082.4375 - val_loss: 56188067840.0000 - val_mae: 206705.0469\n",
      "Epoch 17/100\n",
      "343/343 [==============================] - 2s 5ms/step - loss: 55563956224.0000 - mae: 206082.5000 - val_loss: 56188067840.0000 - val_mae: 206705.0469\n",
      "Epoch 18/100\n",
      "343/343 [==============================] - 2s 5ms/step - loss: 55563968512.0000 - mae: 206082.4375 - val_loss: 56188067840.0000 - val_mae: 206705.0469\n",
      "Epoch 19/100\n",
      "343/343 [==============================] - 2s 5ms/step - loss: 55563968512.0000 - mae: 206082.4375 - val_loss: 56188067840.0000 - val_mae: 206705.0469\n",
      "Epoch 20/100\n",
      "343/343 [==============================] - 2s 5ms/step - loss: 55563964416.0000 - mae: 206082.4062 - val_loss: 56188067840.0000 - val_mae: 206705.0469\n",
      "Epoch 21/100\n",
      "343/343 [==============================] - 2s 5ms/step - loss: 55563988992.0000 - mae: 206082.5000 - val_loss: 56188067840.0000 - val_mae: 206705.0469\n",
      "Epoch 22/100\n",
      "343/343 [==============================] - 2s 5ms/step - loss: 55563988992.0000 - mae: 206082.5469 - val_loss: 56188067840.0000 - val_mae: 206705.0469\n",
      "Epoch 23/100\n",
      "343/343 [==============================] - 2s 5ms/step - loss: 55563980800.0000 - mae: 206082.4062 - val_loss: 56188067840.0000 - val_mae: 206705.0469\n",
      "Epoch 24/100\n",
      "343/343 [==============================] - 2s 5ms/step - loss: 55563988992.0000 - mae: 206082.4062 - val_loss: 56188067840.0000 - val_mae: 206705.0469\n",
      "Epoch 25/100\n",
      "343/343 [==============================] - 2s 5ms/step - loss: 55563988992.0000 - mae: 206082.4375 - val_loss: 56188067840.0000 - val_mae: 206705.0469\n",
      "Epoch 26/100\n",
      "343/343 [==============================] - 2s 5ms/step - loss: 55563980800.0000 - mae: 206082.4844 - val_loss: 56188067840.0000 - val_mae: 206705.0469\n",
      "Epoch 27/100\n",
      "343/343 [==============================] - 2s 5ms/step - loss: 55563968512.0000 - mae: 206082.5000 - val_loss: 56188067840.0000 - val_mae: 206705.0469\n",
      "Epoch 28/100\n",
      "343/343 [==============================] - 2s 5ms/step - loss: 55563980800.0000 - mae: 206082.4844 - val_loss: 56188067840.0000 - val_mae: 206705.0469\n",
      "Epoch 29/100\n",
      "343/343 [==============================] - 2s 5ms/step - loss: 55563993088.0000 - mae: 206082.4375 - val_loss: 56188067840.0000 - val_mae: 206705.0469\n",
      "Epoch 30/100\n",
      "343/343 [==============================] - 2s 5ms/step - loss: 55563956224.0000 - mae: 206082.4375 - val_loss: 56188067840.0000 - val_mae: 206705.0469\n",
      "Epoch 31/100\n",
      "343/343 [==============================] - 2s 5ms/step - loss: 55563980800.0000 - mae: 206082.4531 - val_loss: 56188067840.0000 - val_mae: 206705.0469\n",
      "Epoch 32/100\n",
      "343/343 [==============================] - 2s 5ms/step - loss: 55563988992.0000 - mae: 206082.3906 - val_loss: 56188067840.0000 - val_mae: 206705.0469\n",
      "Epoch 33/100\n",
      "343/343 [==============================] - 2s 5ms/step - loss: 55563976704.0000 - mae: 206082.3594 - val_loss: 56188067840.0000 - val_mae: 206705.0469\n",
      "Epoch 34/100\n",
      "343/343 [==============================] - 2s 5ms/step - loss: 55563964416.0000 - mae: 206082.3594 - val_loss: 56188067840.0000 - val_mae: 206705.0469\n",
      "Epoch 35/100\n",
      "343/343 [==============================] - 2s 5ms/step - loss: 55564001280.0000 - mae: 206082.5000 - val_loss: 56188067840.0000 - val_mae: 206705.0469\n",
      "Epoch 36/100\n",
      "343/343 [==============================] - 2s 5ms/step - loss: 55563964416.0000 - mae: 206082.4062 - val_loss: 56188067840.0000 - val_mae: 206705.0469\n",
      "Epoch 37/100\n",
      "343/343 [==============================] - 2s 5ms/step - loss: 55563952128.0000 - mae: 206082.4844 - val_loss: 56188067840.0000 - val_mae: 206705.0469\n",
      "Epoch 38/100\n",
      "343/343 [==============================] - 2s 5ms/step - loss: 55563988992.0000 - mae: 206082.4062 - val_loss: 56188067840.0000 - val_mae: 206705.0469\n",
      "Epoch 39/100\n",
      "343/343 [==============================] - 2s 5ms/step - loss: 55563968512.0000 - mae: 206082.4062 - val_loss: 56188067840.0000 - val_mae: 206705.0469\n",
      "Epoch 40/100\n",
      "343/343 [==============================] - 2s 5ms/step - loss: 55563976704.0000 - mae: 206082.3438 - val_loss: 56188067840.0000 - val_mae: 206705.0469\n",
      "Epoch 41/100\n",
      "343/343 [==============================] - 2s 5ms/step - loss: 55563964416.0000 - mae: 206082.4375 - val_loss: 56188067840.0000 - val_mae: 206705.0469\n",
      "Epoch 42/100\n",
      "343/343 [==============================] - 2s 5ms/step - loss: 55563993088.0000 - mae: 206082.4375 - val_loss: 56188067840.0000 - val_mae: 206705.0469\n",
      "Epoch 43/100\n",
      "343/343 [==============================] - 2s 5ms/step - loss: 55563988992.0000 - mae: 206082.4531 - val_loss: 56188067840.0000 - val_mae: 206705.0469\n",
      "Epoch 44/100\n",
      "343/343 [==============================] - 2s 5ms/step - loss: 55563964416.0000 - mae: 206082.5000 - val_loss: 56188067840.0000 - val_mae: 206705.0469\n",
      "Epoch 45/100\n",
      "343/343 [==============================] - 2s 5ms/step - loss: 55563976704.0000 - mae: 206082.4531 - val_loss: 56188067840.0000 - val_mae: 206705.0469\n",
      "Epoch 46/100\n",
      "343/343 [==============================] - 2s 5ms/step - loss: 55563976704.0000 - mae: 206082.4531 - val_loss: 56188067840.0000 - val_mae: 206705.0469\n",
      "Epoch 47/100\n",
      "343/343 [==============================] - 2s 5ms/step - loss: 55563993088.0000 - mae: 206082.4375 - val_loss: 56188067840.0000 - val_mae: 206705.0469\n",
      "Epoch 48/100\n",
      "343/343 [==============================] - 2s 5ms/step - loss: 55563976704.0000 - mae: 206082.4531 - val_loss: 56188067840.0000 - val_mae: 206705.0469\n",
      "Epoch 49/100\n",
      "343/343 [==============================] - 2s 5ms/step - loss: 55563968512.0000 - mae: 206082.4062 - val_loss: 56188067840.0000 - val_mae: 206705.0469\n",
      "Epoch 50/100\n",
      "343/343 [==============================] - 2s 5ms/step - loss: 55563968512.0000 - mae: 206082.3594 - val_loss: 56188067840.0000 - val_mae: 206705.0469\n",
      "Epoch 51/100\n",
      "343/343 [==============================] - 2s 5ms/step - loss: 55563988992.0000 - mae: 206082.4844 - val_loss: 56188067840.0000 - val_mae: 206705.0469\n",
      "Epoch 52/100\n",
      "343/343 [==============================] - 2s 5ms/step - loss: 55563993088.0000 - mae: 206082.5781 - val_loss: 56188067840.0000 - val_mae: 206705.0469\n",
      "Epoch 53/100\n",
      "343/343 [==============================] - 2s 5ms/step - loss: 55563968512.0000 - mae: 206082.4844 - val_loss: 56188067840.0000 - val_mae: 206705.0469\n",
      "Epoch 54/100\n",
      "343/343 [==============================] - 2s 5ms/step - loss: 55563964416.0000 - mae: 206082.4844 - val_loss: 56188067840.0000 - val_mae: 206705.0469\n",
      "Epoch 55/100\n",
      "343/343 [==============================] - 2s 5ms/step - loss: 55563980800.0000 - mae: 206082.4375 - val_loss: 56188067840.0000 - val_mae: 206705.0469\n",
      "Epoch 56/100\n",
      "343/343 [==============================] - 2s 5ms/step - loss: 55563988992.0000 - mae: 206082.4062 - val_loss: 56188067840.0000 - val_mae: 206705.0469\n",
      "Epoch 57/100\n",
      "343/343 [==============================] - 2s 5ms/step - loss: 55563968512.0000 - mae: 206082.5000 - val_loss: 56188067840.0000 - val_mae: 206705.0469\n",
      "Epoch 58/100\n",
      "343/343 [==============================] - 2s 5ms/step - loss: 55563993088.0000 - mae: 206082.4531 - val_loss: 56188067840.0000 - val_mae: 206705.0469\n",
      "Epoch 59/100\n",
      "343/343 [==============================] - 2s 5ms/step - loss: 55563964416.0000 - mae: 206082.4375 - val_loss: 56188067840.0000 - val_mae: 206705.0469\n",
      "Epoch 60/100\n",
      "343/343 [==============================] - 2s 5ms/step - loss: 55564001280.0000 - mae: 206082.4375 - val_loss: 56188067840.0000 - val_mae: 206705.0469\n",
      "Epoch 61/100\n",
      "343/343 [==============================] - 2s 5ms/step - loss: 55563964416.0000 - mae: 206082.4531 - val_loss: 56188067840.0000 - val_mae: 206705.0469\n",
      "Epoch 62/100\n",
      "343/343 [==============================] - 2s 5ms/step - loss: 55563980800.0000 - mae: 206082.4375 - val_loss: 56188067840.0000 - val_mae: 206705.0469\n",
      "Epoch 63/100\n",
      "343/343 [==============================] - 2s 5ms/step - loss: 55563968512.0000 - mae: 206082.3125 - val_loss: 56188067840.0000 - val_mae: 206705.0469\n",
      "Epoch 64/100\n",
      "343/343 [==============================] - 2s 5ms/step - loss: 55563980800.0000 - mae: 206082.4375 - val_loss: 56188067840.0000 - val_mae: 206705.0469\n",
      "Epoch 65/100\n",
      "343/343 [==============================] - 2s 5ms/step - loss: 55563956224.0000 - mae: 206082.5000 - val_loss: 56188067840.0000 - val_mae: 206705.0469\n",
      "Epoch 66/100\n",
      "343/343 [==============================] - 2s 5ms/step - loss: 55563952128.0000 - mae: 206082.4375 - val_loss: 56188067840.0000 - val_mae: 206705.0469\n",
      "Epoch 67/100\n",
      "343/343 [==============================] - 2s 5ms/step - loss: 55563956224.0000 - mae: 206082.4062 - val_loss: 56188067840.0000 - val_mae: 206705.0469\n",
      "Epoch 68/100\n",
      "343/343 [==============================] - 2s 5ms/step - loss: 55563980800.0000 - mae: 206082.3906 - val_loss: 56188067840.0000 - val_mae: 206705.0469\n",
      "Epoch 69/100\n",
      "343/343 [==============================] - 2s 5ms/step - loss: 55563952128.0000 - mae: 206082.4375 - val_loss: 56188067840.0000 - val_mae: 206705.0469\n",
      "Epoch 70/100\n",
      "343/343 [==============================] - 2s 5ms/step - loss: 55563964416.0000 - mae: 206082.3125 - val_loss: 56188067840.0000 - val_mae: 206705.0469\n",
      "Epoch 71/100\n",
      "343/343 [==============================] - 2s 5ms/step - loss: 55563968512.0000 - mae: 206082.3438 - val_loss: 56188067840.0000 - val_mae: 206705.0469\n",
      "Epoch 72/100\n",
      "343/343 [==============================] - 2s 5ms/step - loss: 55563964416.0000 - mae: 206082.4375 - val_loss: 56188067840.0000 - val_mae: 206705.0469\n",
      "Epoch 73/100\n",
      "343/343 [==============================] - 2s 5ms/step - loss: 55563976704.0000 - mae: 206082.4844 - val_loss: 56188067840.0000 - val_mae: 206705.0469\n",
      "Epoch 74/100\n",
      "343/343 [==============================] - 2s 5ms/step - loss: 55563968512.0000 - mae: 206082.5000 - val_loss: 56188067840.0000 - val_mae: 206705.0469\n",
      "Epoch 75/100\n",
      "343/343 [==============================] - 2s 5ms/step - loss: 55563968512.0000 - mae: 206082.4375 - val_loss: 56188067840.0000 - val_mae: 206705.0469\n",
      "Epoch 76/100\n",
      "343/343 [==============================] - 2s 5ms/step - loss: 55563964416.0000 - mae: 206082.5000 - val_loss: 56188067840.0000 - val_mae: 206705.0469\n",
      "Epoch 77/100\n",
      "343/343 [==============================] - 2s 5ms/step - loss: 55563976704.0000 - mae: 206082.3906 - val_loss: 56188067840.0000 - val_mae: 206705.0469\n",
      "Epoch 78/100\n",
      "343/343 [==============================] - 2s 4ms/step - loss: 55563988992.0000 - mae: 206082.4531 - val_loss: 56188067840.0000 - val_mae: 206705.0469\n",
      "Epoch 79/100\n",
      "343/343 [==============================] - 2s 5ms/step - loss: 55563964416.0000 - mae: 206082.5000 - val_loss: 56188067840.0000 - val_mae: 206705.0469\n",
      "Epoch 80/100\n",
      "343/343 [==============================] - 2s 5ms/step - loss: 55563976704.0000 - mae: 206082.4062 - val_loss: 56188067840.0000 - val_mae: 206705.0469\n",
      "Epoch 81/100\n",
      "343/343 [==============================] - 2s 5ms/step - loss: 55563980800.0000 - mae: 206082.5312 - val_loss: 56188067840.0000 - val_mae: 206705.0469\n",
      "Epoch 82/100\n",
      "343/343 [==============================] - 2s 5ms/step - loss: 55563964416.0000 - mae: 206082.4844 - val_loss: 56188067840.0000 - val_mae: 206705.0469\n",
      "Epoch 83/100\n",
      "343/343 [==============================] - 2s 5ms/step - loss: 55563956224.0000 - mae: 206082.4844 - val_loss: 56188067840.0000 - val_mae: 206705.0469\n",
      "Epoch 84/100\n",
      "343/343 [==============================] - 2s 5ms/step - loss: 55563952128.0000 - mae: 206082.4531 - val_loss: 56188067840.0000 - val_mae: 206705.0469\n",
      "Epoch 85/100\n",
      "343/343 [==============================] - 2s 5ms/step - loss: 55563968512.0000 - mae: 206082.3594 - val_loss: 56188067840.0000 - val_mae: 206705.0469\n",
      "Epoch 86/100\n",
      "343/343 [==============================] - 2s 5ms/step - loss: 55563980800.0000 - mae: 206082.5000 - val_loss: 56188067840.0000 - val_mae: 206705.0469\n",
      "Epoch 87/100\n",
      "343/343 [==============================] - 2s 5ms/step - loss: 55563952128.0000 - mae: 206082.4844 - val_loss: 56188067840.0000 - val_mae: 206705.0469\n",
      "Epoch 88/100\n",
      "343/343 [==============================] - 2s 5ms/step - loss: 55564005376.0000 - mae: 206082.4062 - val_loss: 56188067840.0000 - val_mae: 206705.0469\n",
      "Epoch 89/100\n",
      "343/343 [==============================] - 2s 5ms/step - loss: 55563939840.0000 - mae: 206082.3438 - val_loss: 56188067840.0000 - val_mae: 206705.0469\n",
      "Epoch 90/100\n",
      "343/343 [==============================] - 2s 4ms/step - loss: 55563952128.0000 - mae: 206082.4844 - val_loss: 56188067840.0000 - val_mae: 206705.0469\n",
      "Epoch 91/100\n",
      "343/343 [==============================] - 2s 5ms/step - loss: 55563988992.0000 - mae: 206082.3906 - val_loss: 56188067840.0000 - val_mae: 206705.0469\n",
      "Epoch 92/100\n",
      "343/343 [==============================] - 2s 5ms/step - loss: 55563956224.0000 - mae: 206082.5000 - val_loss: 56188067840.0000 - val_mae: 206705.0469\n",
      "Epoch 93/100\n",
      "343/343 [==============================] - 2s 5ms/step - loss: 55563968512.0000 - mae: 206082.3906 - val_loss: 56188067840.0000 - val_mae: 206705.0469\n",
      "Epoch 94/100\n",
      "343/343 [==============================] - 2s 5ms/step - loss: 55563976704.0000 - mae: 206082.4531 - val_loss: 56188067840.0000 - val_mae: 206705.0469\n",
      "Epoch 95/100\n",
      "343/343 [==============================] - 2s 5ms/step - loss: 55563964416.0000 - mae: 206082.3906 - val_loss: 56188067840.0000 - val_mae: 206705.0469\n",
      "Epoch 96/100\n",
      "343/343 [==============================] - 2s 4ms/step - loss: 55563976704.0000 - mae: 206082.4062 - val_loss: 56188067840.0000 - val_mae: 206705.0469\n",
      "Epoch 97/100\n",
      "343/343 [==============================] - 2s 5ms/step - loss: 55564017664.0000 - mae: 206082.4375 - val_loss: 56188067840.0000 - val_mae: 206705.0469\n",
      "Epoch 98/100\n",
      "343/343 [==============================] - 2s 5ms/step - loss: 55563956224.0000 - mae: 206082.3594 - val_loss: 56188067840.0000 - val_mae: 206705.0469\n",
      "Epoch 99/100\n",
      "343/343 [==============================] - 2s 5ms/step - loss: 55563993088.0000 - mae: 206082.4062 - val_loss: 56188067840.0000 - val_mae: 206705.0469\n",
      "Epoch 100/100\n",
      "343/343 [==============================] - 2s 4ms/step - loss: 55563980800.0000 - mae: 206082.4844 - val_loss: 56188067840.0000 - val_mae: 206705.0469\n"
     ]
    },
    {
     "data": {
      "text/plain": [
       "<keras.callbacks.History at 0x1dabac2adf0>"
      ]
     },
     "execution_count": 44,
     "metadata": {},
     "output_type": "execute_result"
    }
   ],
   "source": [
    "ann_reg.fit(x_train,y_train,validation_split=0.33,batch_size=32,epochs=100)"
   ]
  },
  {
   "cell_type": "code",
   "execution_count": 46,
   "id": "be7bad51-72e3-4454-9459-2ac45543af40",
   "metadata": {},
   "outputs": [
    {
     "name": "stdout",
     "output_type": "stream",
     "text": [
      "128/128 [==============================] - 1s 2ms/step\n"
     ]
    }
   ],
   "source": [
    "y_pred=ann_reg.predict(x_test)"
   ]
  },
  {
   "cell_type": "code",
   "execution_count": 47,
   "id": "333c3fd9-d7dd-480e-9ffa-2197e7b1d86a",
   "metadata": {},
   "outputs": [
    {
     "data": {
      "text/plain": [
       "array([[1.],\n",
       "       [1.],\n",
       "       [1.],\n",
       "       ...,\n",
       "       [1.],\n",
       "       [1.],\n",
       "       [1.]], dtype=float32)"
      ]
     },
     "execution_count": 47,
     "metadata": {},
     "output_type": "execute_result"
    }
   ],
   "source": [
    "y_pred"
   ]
  },
  {
   "cell_type": "code",
   "execution_count": 48,
   "id": "17698c45-de5d-4346-831f-07c9ec4a0230",
   "metadata": {},
   "outputs": [],
   "source": [
    "y_pred=(y_pred>0.0)"
   ]
  },
  {
   "cell_type": "code",
   "execution_count": 49,
   "id": "8dda4115-83c6-49fe-a876-dce7b731c33c",
   "metadata": {},
   "outputs": [
    {
     "data": {
      "text/plain": [
       "array([[ True],\n",
       "       [ True],\n",
       "       [ True],\n",
       "       ...,\n",
       "       [ True],\n",
       "       [ True],\n",
       "       [ True]])"
      ]
     },
     "execution_count": 49,
     "metadata": {},
     "output_type": "execute_result"
    }
   ],
   "source": [
    "y_pred"
   ]
  },
  {
   "cell_type": "code",
   "execution_count": 50,
   "id": "c6bf0da7-c6ea-43f1-abe8-eda248f908fe",
   "metadata": {},
   "outputs": [
    {
     "name": "stdout",
     "output_type": "stream",
     "text": [
      "accuracy_score0.0\n",
      "_________________________\n",
      "confusion matrix \n",
      "[[  0   0   0 ...   0   0   0]\n",
      " [  1   0   0 ...   0   0   0]\n",
      " [  1   0   0 ...   0   0   0]\n",
      " ...\n",
      " [  1   0   0 ...   0   0   0]\n",
      " [  6   0   0 ...   0   0   0]\n",
      " [203   0   0 ...   0   0   0]]\n"
     ]
    }
   ],
   "source": [
    "from sklearn.metrics import confusion_matrix , accuracy_score\n",
    "acc=accuracy_score(y_pred,y_test)\n",
    "print('accuracy_score'+str(acc))\n",
    "print('_________________________')\n",
    "\n",
    "cm=confusion_matrix(y_test,y_pred)\n",
    "print('confusion matrix \\n'+str(cm))"
   ]
  },
  {
   "cell_type": "code",
   "execution_count": null,
   "id": "42da9580-9009-4385-9280-72f422e70a9c",
   "metadata": {},
   "outputs": [],
   "source": []
  }
 ],
 "metadata": {
  "kernelspec": {
   "display_name": "Python 3 (ipykernel)",
   "language": "python",
   "name": "python3"
  },
  "language_info": {
   "codemirror_mode": {
    "name": "ipython",
    "version": 3
   },
   "file_extension": ".py",
   "mimetype": "text/x-python",
   "name": "python",
   "nbconvert_exporter": "python",
   "pygments_lexer": "ipython3",
   "version": "3.9.12"
  }
 },
 "nbformat": 4,
 "nbformat_minor": 5
}
