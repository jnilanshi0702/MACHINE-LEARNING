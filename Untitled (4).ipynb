{
 "cells": [
  {
   "cell_type": "code",
   "execution_count": 1,
   "id": "3e34c797-fbd5-46bb-a37b-5e9438b26d6d",
   "metadata": {},
   "outputs": [],
   "source": [
    "import pandas as pd\n",
    "import numpy as np\n",
    "import matplotlib.pyplot as plt\n",
    "import seaborn as sns\n",
    "import warnings\n",
    "warnings.filterwarnings('ignore')\n",
    "%matplotlib inline"
   ]
  },
  {
   "cell_type": "code",
   "execution_count": 8,
   "id": "afe2c465-dd70-4912-8a69-7c1bd86e052c",
   "metadata": {},
   "outputs": [],
   "source": [
    "df=pd.read_csv(r'train.csv') #FOR EVERY NUMBER THERE ARE PIXELS\n",
    "# LABEL- TARGET CLASS OR DEPENDENT VARIABLE\n",
    "# FOR 1- DIFFERENT PIXELS ARE ASSIGNED \n",
    "# TOTAL OF 784 PIXELS"
   ]
  },
  {
   "cell_type": "code",
   "execution_count": 4,
   "id": "255e4e90-b1a4-4a8a-a139-77b8d3b13478",
   "metadata": {},
   "outputs": [
    {
     "data": {
      "text/plain": [
       "(42000, 785)"
      ]
     },
     "execution_count": 4,
     "metadata": {},
     "output_type": "execute_result"
    }
   ],
   "source": [
    "df.shape # 785 COLUMNS"
   ]
  },
  {
   "cell_type": "code",
   "execution_count": 5,
   "id": "53a4c279-e2c1-41a1-a770-058af9677efa",
   "metadata": {},
   "outputs": [
    {
     "data": {
      "text/plain": [
       "<AxesSubplot:xlabel='label', ylabel='count'>"
      ]
     },
     "execution_count": 5,
     "metadata": {},
     "output_type": "execute_result"
    },
    {
     "data": {
      "image/png": "[encoded data removed]",
      "text/plain": [
       "<Figure size 432x288 with 1 Axes>"
      ]
     },
     "metadata": {
      "needs_background": "light"
     },
     "output_type": "display_data"
    }
   ],
   "source": [
    "sns.countplot('label',data=df)"
   ]
  },
  {
   "cell_type": "code",
   "execution_count": 7,
   "id": "f4924871-78d4-4096-8e5b-d014875d4759",
   "metadata": {},
   "outputs": [
    {
     "data": {
      "text/plain": [
       "label       0\n",
       "pixel0      0\n",
       "pixel1      0\n",
       "pixel2      0\n",
       "pixel3      0\n",
       "           ..\n",
       "pixel779    0\n",
       "pixel780    0\n",
       "pixel781    0\n",
       "pixel782    0\n",
       "pixel783    0\n",
       "Length: 785, dtype: int64"
      ]
     },
     "execution_count": 7,
     "metadata": {},
     "output_type": "execute_result"
    }
   ],
   "source": [
    "df.isnull().sum()"
   ]
  },
  {
   "cell_type": "code",
   "execution_count": 12,
   "id": "1994f62d-4abf-4875-a504-ec0715572cd6",
   "metadata": {},
   "outputs": [],
   "source": [
    "# DIVIDING THE DATSET TO X AND Y BASED ON OUR TARGET 'lABEL'\n",
    "#x = df.drop(['label'],axis=1)\n",
    "#y = df['label']"
   ]
  },
  {
   "cell_type": "code",
   "execution_count": 14,
   "id": "1b548cab-c3d9-43b3-b913-5d8499bf7770",
   "metadata": {},
   "outputs": [],
   "source": [
    "#x"
   ]
  },
  {
   "cell_type": "code",
   "execution_count": 15,
   "id": "cb37877f-4415-40db-867a-f1bfa30fd7a6",
   "metadata": {},
   "outputs": [],
   "source": [
    "#y"
   ]
  },
  {
   "cell_type": "code",
   "execution_count": 16,
   "id": "0d033e77-1cbc-48ba-8bff-5864667aef86",
   "metadata": {},
   "outputs": [],
   "source": [
    "x=df.iloc[:,1:].values\n",
    "y=df.iloc[:,0].values"
   ]
  },
  {
   "cell_type": "code",
   "execution_count": 17,
   "id": "c3bbcd3a-bc39-4e69-9586-6d15c2b0f927",
   "metadata": {},
   "outputs": [
    {
     "data": {
      "text/plain": [
       "numpy.ndarray"
      ]
     },
     "execution_count": 17,
     "metadata": {},
     "output_type": "execute_result"
    }
   ],
   "source": [
    "type(x)"
   ]
  },
  {
   "cell_type": "code",
   "execution_count": 18,
   "id": "30424e71-8dc1-4650-88f7-da5d9a547fdf",
   "metadata": {},
   "outputs": [
    {
     "data": {
      "text/plain": [
       "numpy.ndarray"
      ]
     },
     "execution_count": 18,
     "metadata": {},
     "output_type": "execute_result"
    }
   ],
   "source": [
    "type(y)"
   ]
  },
  {
   "cell_type": "code",
   "execution_count": 19,
   "id": "3e69a1a4-45e7-493c-a57c-93cbf78ca4d0",
   "metadata": {},
   "outputs": [
    {
     "name": "stdout",
     "output_type": "stream",
     "text": [
      "[[0 0 0 ... 0 0 0]\n",
      " [0 0 0 ... 0 0 0]\n",
      " [0 0 0 ... 0 0 0]\n",
      " ...\n",
      " [0 0 0 ... 0 0 0]\n",
      " [0 0 0 ... 0 0 0]\n",
      " [0 0 0 ... 0 0 0]]\n"
     ]
    }
   ],
   "source": [
    "print(x)"
   ]
  },
  {
   "cell_type": "code",
   "execution_count": 20,
   "id": "2bd5860f-4873-490c-955f-9611ed6c4e71",
   "metadata": {},
   "outputs": [
    {
     "name": "stdout",
     "output_type": "stream",
     "text": [
      "[1 0 1 ... 7 6 9]\n"
     ]
    }
   ],
   "source": [
    "print(y)"
   ]
  },
  {
   "cell_type": "code",
   "execution_count": 21,
   "id": "52633523-c8c4-4793-8e85-a6a1175813ff",
   "metadata": {},
   "outputs": [
    {
     "data": {
      "text/plain": [
       "array([[0, 0, 0, ..., 0, 0, 0],\n",
       "       [0, 0, 0, ..., 0, 0, 0],\n",
       "       [0, 0, 0, ..., 0, 0, 0],\n",
       "       ...,\n",
       "       [0, 0, 0, ..., 0, 0, 0],\n",
       "       [0, 0, 0, ..., 0, 0, 0],\n",
       "       [0, 0, 0, ..., 0, 0, 0]], dtype=int64)"
      ]
     },
     "execution_count": 21,
     "metadata": {},
     "output_type": "execute_result"
    }
   ],
   "source": [
    "x"
   ]
  },
  {
   "cell_type": "code",
   "execution_count": 22,
   "id": "2e046be5-d3a4-4acf-8c8c-7b1ed14d1692",
   "metadata": {},
   "outputs": [
    {
     "data": {
      "text/plain": [
       "array([  0,   0,   0,   0,   0,   0,   0,   0,   0,   0,   0,   0,   0,\n",
       "         0,   0,   0,   0,   0,   0,   0,   0,   0,   0,   0,   0,   0,\n",
       "         0,   0,   0,   0,   0,   0,   0,   0,   0,   0,   0,   0,   0,\n",
       "         0,   0,   0,   0,   0,   0,   0,   0,   0,   0,   0,   0,   0,\n",
       "         0,   0,   0,   0,   0,   0,   0,   0,   0,   0,   0,   0,   0,\n",
       "         0,   0,   0,   0,   0,   0,   0,   0,   0,   0,   0,   0,   0,\n",
       "         0,   0,   0,   0,   0,   0,   0,   0,   0,   0,   0,   0,   0,\n",
       "         0,   0,   0,   0,   0,   0,   0,   0,   0,   0,   0,   0,   0,\n",
       "         0,   0,   0,   0,   0,   0,   0,   0,   0,   0,   0,   0,   0,\n",
       "         0,   0,   0,   0,   0,   0,   0,   0,   0,   0,   0,   0,   0,\n",
       "         0,   0, 188, 255,  94,   0,   0,   0,   0,   0,   0,   0,   0,\n",
       "         0,   0,   0,   0,   0,   0,   0,   0,   0,   0,   0,   0,   0,\n",
       "         0,   0,   0, 191, 250, 253,  93,   0,   0,   0,   0,   0,   0,\n",
       "         0,   0,   0,   0,   0,   0,   0,   0,   0,   0,   0,   0,   0,\n",
       "         0,   0,   0,   0, 123, 248, 253, 167,  10,   0,   0,   0,   0,\n",
       "         0,   0,   0,   0,   0,   0,   0,   0,   0,   0,   0,   0,   0,\n",
       "         0,   0,   0,   0,   0,  80, 247, 253, 208,  13,   0,   0,   0,\n",
       "         0,   0,   0,   0,   0,   0,   0,   0,   0,   0,   0,   0,   0,\n",
       "         0,   0,   0,   0,   0,   0,  29, 207, 253, 235,  77,   0,   0,\n",
       "         0,   0,   0,   0,   0,   0,   0,   0,   0,   0,   0,   0,   0,\n",
       "         0,   0,   0,   0,   0,   0,   0,  54, 209, 253, 253,  88,   0,\n",
       "         0,   0,   0,   0,   0,   0,   0,   0,   0,   0,   0,   0,   0,\n",
       "         0,   0,   0,   0,   0,   0,   0,   0,  93, 254, 253, 238, 170,\n",
       "        17,   0,   0,   0,   0,   0,   0,   0,   0,   0,   0,   0,   0,\n",
       "         0,   0,   0,   0,   0,   0,   0,   0,   0,  23, 210, 254, 253,\n",
       "       159,   0,   0,   0,   0,   0,   0,   0,   0,   0,   0,   0,   0,\n",
       "         0,   0,   0,   0,   0,   0,   0,   0,   0,   0,  16, 209, 253,\n",
       "       254, 240,  81,   0,   0,   0,   0,   0,   0,   0,   0,   0,   0,\n",
       "         0,   0,   0,   0,   0,   0,   0,   0,   0,   0,   0,   0,  27,\n",
       "       253, 253, 254,  13,   0,   0,   0,   0,   0,   0,   0,   0,   0,\n",
       "         0,   0,   0,   0,   0,   0,   0,   0,   0,   0,   0,   0,   0,\n",
       "        20, 206, 254, 254, 198,   7,   0,   0,   0,   0,   0,   0,   0,\n",
       "         0,   0,   0,   0,   0,   0,   0,   0,   0,   0,   0,   0,   0,\n",
       "         0,   0, 168, 253, 253, 196,   7,   0,   0,   0,   0,   0,   0,\n",
       "         0,   0,   0,   0,   0,   0,   0,   0,   0,   0,   0,   0,   0,\n",
       "         0,   0,   0,  20, 203, 253, 248,  76,   0,   0,   0,   0,   0,\n",
       "         0,   0,   0,   0,   0,   0,   0,   0,   0,   0,   0,   0,   0,\n",
       "         0,   0,   0,   0,  22, 188, 253, 245,  93,   0,   0,   0,   0,\n",
       "         0,   0,   0,   0,   0,   0,   0,   0,   0,   0,   0,   0,   0,\n",
       "         0,   0,   0,   0,   0,   0, 103, 253, 253, 191,   0,   0,   0,\n",
       "         0,   0,   0,   0,   0,   0,   0,   0,   0,   0,   0,   0,   0,\n",
       "         0,   0,   0,   0,   0,   0,   0,  89, 240, 253, 195,  25,   0,\n",
       "         0,   0,   0,   0,   0,   0,   0,   0,   0,   0,   0,   0,   0,\n",
       "         0,   0,   0,   0,   0,   0,   0,   0,  15, 220, 253, 253,  80,\n",
       "         0,   0,   0,   0,   0,   0,   0,   0,   0,   0,   0,   0,   0,\n",
       "         0,   0,   0,   0,   0,   0,   0,   0,   0,   0,  94, 253, 253,\n",
       "       253,  94,   0,   0,   0,   0,   0,   0,   0,   0,   0,   0,   0,\n",
       "         0,   0,   0,   0,   0,   0,   0,   0,   0,   0,   0,   0,  89,\n",
       "       251, 253, 250, 131,   0,   0,   0,   0,   0,   0,   0,   0,   0,\n",
       "         0,   0,   0,   0,   0,   0,   0,   0,   0,   0,   0,   0,   0,\n",
       "         0,   0, 214, 218,  95,   0,   0,   0,   0,   0,   0,   0,   0,\n",
       "         0,   0,   0,   0,   0,   0,   0,   0,   0,   0,   0,   0,   0,\n",
       "         0,   0,   0,   0,   0,   0,   0,   0,   0,   0,   0,   0,   0,\n",
       "         0,   0,   0,   0,   0,   0,   0,   0,   0,   0,   0,   0,   0,\n",
       "         0,   0,   0,   0,   0,   0,   0,   0,   0,   0,   0,   0,   0,\n",
       "         0,   0,   0,   0,   0,   0,   0,   0,   0,   0,   0,   0,   0,\n",
       "         0,   0,   0,   0,   0,   0,   0,   0,   0,   0,   0,   0,   0,\n",
       "         0,   0,   0,   0,   0,   0,   0,   0,   0,   0,   0,   0,   0,\n",
       "         0,   0,   0,   0,   0,   0,   0,   0,   0,   0,   0,   0,   0,\n",
       "         0,   0,   0,   0,   0,   0,   0,   0,   0,   0,   0,   0,   0,\n",
       "         0,   0,   0,   0], dtype=int64)"
      ]
     },
     "execution_count": 22,
     "metadata": {},
     "output_type": "execute_result"
    }
   ],
   "source": [
    "x[0]"
   ]
  },
  {
   "cell_type": "code",
   "execution_count": 25,
   "id": "a00aee52-a33d-4707-9317-4830850b5190",
   "metadata": {},
   "outputs": [
    {
     "data": {
      "text/plain": [
       "array([  0,   0,   0,   0,   0,   0,   0,   0,   0,   0,   0,   0,   0,\n",
       "         0,   0,   0,   0,   0,   0,   0,   0,   0,   0,   0,   0,   0,\n",
       "         0,   0,   0,   0,   0,   0,   0,   0,   0,   0,   0,   0,   0,\n",
       "         0,   0,   0,   0,   0,   0,   0,   0,   0,   0,   0,   0,   0,\n",
       "         0,   0,   0,   0,   0,   0,   0,   0,   0,   0,   0,   0,   0,\n",
       "         0,   0,   0,   0,   0,   0,   0,   0,   0,   0,   0,   0,   0,\n",
       "         0,   0,   0,   0,   0,   0,   0,   0,   0,   0,   0,   0,   0,\n",
       "         0,   0,   0,   0,   0,   0,   0,   0,   0,   0,   0,   0,   0,\n",
       "         0,   0,   0,   0,   0,   0,   0,   0,   0,   0,   0,   0,   0,\n",
       "         0,   0,   0,   0,   0,  18,  30, 137, 137, 192,  86,  72,   1,\n",
       "         0,   0,   0,   0,   0,   0,   0,   0,   0,   0,   0,   0,   0,\n",
       "         0,   0,   0,   0,   0,  13,  86, 250, 254, 254, 254, 254, 217,\n",
       "       246, 151,  32,   0,   0,   0,   0,   0,   0,   0,   0,   0,   0,\n",
       "         0,   0,   0,   0,   0,   0,  16, 179, 254, 254, 254, 254, 254,\n",
       "       254, 254, 254, 254, 231,  54,  15,   0,   0,   0,   0,   0,   0,\n",
       "         0,   0,   0,   0,   0,   0,   0,   0,  72, 254, 254, 254, 254,\n",
       "       254, 254, 254, 254, 254, 254, 254, 254, 104,   0,   0,   0,   0,\n",
       "         0,   0,   0,   0,   0,   0,   0,   0,   0,  61, 191, 254, 254,\n",
       "       254, 254, 254, 109,  83, 199, 254, 254, 254, 254, 243,  85,   0,\n",
       "         0,   0,   0,   0,   0,   0,   0,   0,   0,   0,   0, 172, 254,\n",
       "       254, 254, 202, 147, 147,  45,   0,  11,  29, 200, 254, 254, 254,\n",
       "       171,   0,   0,   0,   0,   0,   0,   0,   0,   0,   0,   0,   1,\n",
       "       174, 254, 254,  89,  67,   0,   0,   0,   0,   0,   0, 128, 252,\n",
       "       254, 254, 212,  76,   0,   0,   0,   0,   0,   0,   0,   0,   0,\n",
       "         0,  47, 254, 254, 254,  29,   0,   0,   0,   0,   0,   0,   0,\n",
       "         0,  83, 254, 254, 254, 153,   0,   0,   0,   0,   0,   0,   0,\n",
       "         0,   0,   0,  80, 254, 254, 240,  24,   0,   0,   0,   0,   0,\n",
       "         0,   0,   0,  25, 240, 254, 254, 153,   0,   0,   0,   0,   0,\n",
       "         0,   0,   0,   0,   0,  64, 254, 254, 186,   7,   0,   0,   0,\n",
       "         0,   0,   0,   0,   0,   0, 166, 254, 254, 224,  12,   0,   0,\n",
       "         0,   0,   0,   0,   0,   0,  14, 232, 254, 254, 254,  29,   0,\n",
       "         0,   0,   0,   0,   0,   0,   0,   0,  75, 254, 254, 254,  17,\n",
       "         0,   0,   0,   0,   0,   0,   0,   0,  18, 254, 254, 254, 254,\n",
       "        29,   0,   0,   0,   0,   0,   0,   0,   0,   0,  48, 254, 254,\n",
       "       254,  17,   0,   0,   0,   0,   0,   0,   0,   0,   2, 163, 254,\n",
       "       254, 254,  29,   0,   0,   0,   0,   0,   0,   0,   0,   0,  48,\n",
       "       254, 254, 254,  17,   0,   0,   0,   0,   0,   0,   0,   0,   0,\n",
       "        94, 254, 254, 254, 200,  12,   0,   0,   0,   0,   0,   0,   0,\n",
       "        16, 209, 254, 254, 150,   1,   0,   0,   0,   0,   0,   0,   0,\n",
       "         0,   0,  15, 206, 254, 254, 254, 202,  66,   0,   0,   0,   0,\n",
       "         0,  21, 161, 254, 254, 245,  31,   0,   0,   0,   0,   0,   0,\n",
       "         0,   0,   0,   0,   0,  60, 212, 254, 254, 254, 194,  48,  48,\n",
       "        34,  41,  48, 209, 254, 254, 254, 171,   0,   0,   0,   0,   0,\n",
       "         0,   0,   0,   0,   0,   0,   0,   0,  86, 243, 254, 254, 254,\n",
       "       254, 254, 233, 243, 254, 254, 254, 254, 254,  86,   0,   0,   0,\n",
       "         0,   0,   0,   0,   0,   0,   0,   0,   0,   0,   0, 114, 254,\n",
       "       254, 254, 254, 254, 254, 254, 254, 254, 254, 239,  86,  11,   0,\n",
       "         0,   0,   0,   0,   0,   0,   0,   0,   0,   0,   0,   0,   0,\n",
       "        13, 182, 254, 254, 254, 254, 254, 254, 254, 254, 243,  70,   0,\n",
       "         0,   0,   0,   0,   0,   0,   0,   0,   0,   0,   0,   0,   0,\n",
       "         0,   0,   0,   8,  76, 146, 254, 255, 254, 255, 146,  19,  15,\n",
       "         0,   0,   0,   0,   0,   0,   0,   0,   0,   0,   0,   0,   0,\n",
       "         0,   0,   0,   0,   0,   0,   0,   0,   0,   0,   0,   0,   0,\n",
       "         0,   0,   0,   0,   0,   0,   0,   0,   0,   0,   0,   0,   0,\n",
       "         0,   0,   0,   0,   0,   0,   0,   0,   0,   0,   0,   0,   0,\n",
       "         0,   0,   0,   0,   0,   0,   0,   0,   0,   0,   0,   0,   0,\n",
       "         0,   0,   0,   0,   0,   0,   0,   0,   0,   0,   0,   0,   0,\n",
       "         0,   0,   0,   0,   0,   0,   0,   0,   0,   0,   0,   0,   0,\n",
       "         0,   0,   0,   0,   0,   0,   0,   0,   0,   0,   0,   0,   0,\n",
       "         0,   0,   0,   0,   0,   0,   0,   0,   0,   0,   0,   0,   0,\n",
       "         0,   0,   0,   0], dtype=int64)"
      ]
     },
     "execution_count": 25,
     "metadata": {},
     "output_type": "execute_result"
    }
   ],
   "source": [
    "x[1] # first row  # lowest no. 1 and highest no. 255 # 0 represent black # 255 represent white"
   ]
  },
  {
   "cell_type": "code",
   "execution_count": 26,
   "id": "84652704-3a56-4200-946e-67f5d7c646c9",
   "metadata": {},
   "outputs": [
    {
     "data": {
      "text/plain": [
       "<matplotlib.image.AxesImage at 0x21c26641d30>"
      ]
     },
     "execution_count": 26,
     "metadata": {},
     "output_type": "execute_result"
    },
    {
     "data": {
      "image/png": "[encoded data removed]",
      "text/plain": [
       "<Figure size 432x288 with 1 Axes>"
      ]
     },
     "metadata": {
      "needs_background": "light"
     },
     "output_type": "display_data"
    }
   ],
   "source": [
    "plt.imshow(x[1].reshape(28,28))  # reshape 28,28 means 28 rows and 28 columns"
   ]
  },
  {
   "cell_type": "code",
   "execution_count": 37,
   "id": "5c60fb74-acdf-4a88-9f2c-a70bbc685898",
   "metadata": {},
   "outputs": [
    {
     "name": "stdout",
     "output_type": "stream",
     "text": [
      "The label of the image 1\n"
     ]
    },
    {
     "data": {
      "image/png": "[encoded data removed]",
      "text/plain": [
       "<Figure size 432x288 with 1 Axes>"
      ]
     },
     "metadata": {
      "needs_background": "light"
     },
     "output_type": "display_data"
    },
    {
     "name": "stdout",
     "output_type": "stream",
     "text": [
      "The label of the image 0\n"
     ]
    },
    {
     "data": {
      "image/png": "[encoded data removed]",
      "text/plain": [
       "<Figure size 432x288 with 1 Axes>"
      ]
     },
     "metadata": {
      "needs_background": "light"
     },
     "output_type": "display_data"
    },
    {
     "name": "stdout",
     "output_type": "stream",
     "text": [
      "The label of the image 1\n"
     ]
    },
    {
     "data": {
      "image/png": "[encoded data removed]",
      "text/plain": [
       "<Figure size 432x288 with 1 Axes>"
      ]
     },
     "metadata": {
      "needs_background": "light"
     },
     "output_type": "display_data"
    },
    {
     "name": "stdout",
     "output_type": "stream",
     "text": [
      "The label of the image 4\n"
     ]
    },
    {
     "data": {
      "image/png": "[encoded data removed]",
      "text/plain": [
       "<Figure size 432x288 with 1 Axes>"
      ]
     },
     "metadata": {
      "needs_background": "light"
     },
     "output_type": "display_data"
    },
    {
     "name": "stdout",
     "output_type": "stream",
     "text": [
      "The label of the image 0\n"
     ]
    },
    {
     "data": {
      "image/png": "[encoded data removed]",
      "text/plain": [
       "<Figure size 432x288 with 1 Axes>"
      ]
     },
     "metadata": {
      "needs_background": "light"
     },
     "output_type": "display_data"
    }
   ],
   "source": [
    "for i in range(5):\n",
    "       plt.imshow(x[i].reshape(28,28)) # AS THERE ARE 784 PIXELS COLUMNS SO 28,28 IS USED\n",
    "       print('The label of the image',y[i])\n",
    "       plt.show()\n",
    "     \n",
    "  "
   ]
  },
  {
   "cell_type": "markdown",
   "id": "c654f1e1-d33b-4f4a-9bd2-1f8e151551f1",
   "metadata": {},
   "source": [
    "## TRAIN TEST SPLIT"
   ]
  },
  {
   "cell_type": "code",
   "execution_count": 36,
   "id": "3dff93d4-97ba-47a8-a116-d9bf43005fec",
   "metadata": {},
   "outputs": [],
   "source": [
    "from sklearn.model_selection import train_test_split\n",
    "x_train,x_test,y_train,y_test = train_test_split(x,y,train_size=0.2,random_state=42)"
   ]
  },
  {
   "cell_type": "markdown",
   "id": "db5a21ea-614b-485c-9b03-bbbbb9ccb0b1",
   "metadata": {},
   "source": [
    "## FEATURE SCALLING"
   ]
  },
  {
   "cell_type": "code",
   "execution_count": 38,
   "id": "e3b9b69f-e416-4b3a-9cba-508231190556",
   "metadata": {},
   "outputs": [],
   "source": [
    "# FEATURE SCALLING IS DONE TO MAKE THE VALUES OF COLUMN IN SAME RANGE AS DIFFERENT RANGE \n",
    "# HIGH RANGE COLUMN DOMINATE OVER LOW RANGE\n",
    "# IN DEEPLEARNING IF HIGH RANGE VALUE IS THERE THEN PROCESSING TAKES A LOT OF TIME"
   ]
  },
  {
   "cell_type": "code",
   "execution_count": 39,
   "id": "dde2b6f6-e355-440c-9041-0021fe4114b0",
   "metadata": {},
   "outputs": [],
   "source": [
    "x_train=x_train/255\n",
    "x_test=x_test/255"
   ]
  },
  {
   "cell_type": "code",
   "execution_count": 41,
   "id": "79bb0fc2-5f07-4173-9bd2-77ef64ae260c",
   "metadata": {},
   "outputs": [
    {
     "data": {
      "text/plain": [
       "array([[0., 0., 0., ..., 0., 0., 0.],\n",
       "       [0., 0., 0., ..., 0., 0., 0.],\n",
       "       [0., 0., 0., ..., 0., 0., 0.],\n",
       "       ...,\n",
       "       [0., 0., 0., ..., 0., 0., 0.],\n",
       "       [0., 0., 0., ..., 0., 0., 0.],\n",
       "       [0., 0., 0., ..., 0., 0., 0.]])"
      ]
     },
     "execution_count": 41,
     "metadata": {},
     "output_type": "execute_result"
    }
   ],
   "source": [
    "x_train # all values come in the range of 0-1"
   ]
  },
  {
   "cell_type": "code",
   "execution_count": 42,
   "id": "dea8647b-ec3c-4ecf-b210-b3a3da46c48f",
   "metadata": {
    "scrolled": true,
    "tags": []
   },
   "outputs": [
    {
     "data": {
      "text/plain": [
       "array([0.        , 0.        , 0.        , 0.        , 0.        ,\n",
       "       0.        , 0.        , 0.        , 0.        , 0.        ,\n",
       "       0.        , 0.        , 0.        , 0.        , 0.        ,\n",
       "       0.        , 0.        , 0.        , 0.        , 0.        ,\n",
       "       0.        , 0.        , 0.        , 0.        , 0.        ,\n",
       "       0.        , 0.        , 0.        , 0.        , 0.        ,\n",
       "       0.        , 0.        , 0.        , 0.        , 0.        ,\n",
       "       0.        , 0.        , 0.        , 0.        , 0.        ,\n",
       "       0.        , 0.        , 0.        , 0.        , 0.        ,\n",
       "       0.        , 0.        , 0.        , 0.        , 0.        ,\n",
       "       0.        , 0.        , 0.        , 0.        , 0.        ,\n",
       "       0.        , 0.        , 0.        , 0.        , 0.        ,\n",
       "       0.        , 0.        , 0.        , 0.        , 0.        ,\n",
       "       0.        , 0.        , 0.        , 0.        , 0.        ,\n",
       "       0.        , 0.        , 0.        , 0.        , 0.        ,\n",
       "       0.        , 0.        , 0.        , 0.        , 0.        ,\n",
       "       0.        , 0.        , 0.        , 0.        , 0.        ,\n",
       "       0.        , 0.        , 0.        , 0.        , 0.        ,\n",
       "       0.        , 0.        , 0.02745098, 0.68235294, 0.99215686,\n",
       "       0.99215686, 0.68235294, 0.26666667, 0.        , 0.        ,\n",
       "       0.        , 0.        , 0.        , 0.        , 0.        ,\n",
       "       0.        , 0.        , 0.        , 0.        , 0.        ,\n",
       "       0.        , 0.        , 0.        , 0.        , 0.        ,\n",
       "       0.        , 0.        , 0.        , 0.        , 0.        ,\n",
       "       0.05882353, 0.98823529, 0.98823529, 0.98823529, 0.98823529,\n",
       "       0.9254902 , 0.67058824, 0.        , 0.        , 0.        ,\n",
       "       0.        , 0.        , 0.        , 0.        , 0.        ,\n",
       "       0.        , 0.        , 0.        , 0.        , 0.        ,\n",
       "       0.        , 0.        , 0.        , 0.        , 0.        ,\n",
       "       0.        , 0.        , 0.        , 0.02352941, 0.34509804,\n",
       "       0.34509804, 0.75686275, 0.96078431, 0.98823529, 0.9254902 ,\n",
       "       0.2627451 , 0.        , 0.        , 0.        , 0.        ,\n",
       "       0.        , 0.        , 0.        , 0.        , 0.        ,\n",
       "       0.        , 0.        , 0.        , 0.        , 0.        ,\n",
       "       0.        , 0.        , 0.        , 0.        , 0.        ,\n",
       "       0.        , 0.        , 0.        , 0.        , 0.        ,\n",
       "       0.27843137, 0.96078431, 0.98823529, 0.40392157, 0.        ,\n",
       "       0.        , 0.        , 0.        , 0.        , 0.        ,\n",
       "       0.        , 0.        , 0.        , 0.        , 0.        ,\n",
       "       0.        , 0.        , 0.        , 0.        , 0.        ,\n",
       "       0.        , 0.        , 0.        , 0.        , 0.        ,\n",
       "       0.        , 0.        , 0.        , 0.        , 0.93333333,\n",
       "       0.98823529, 0.92156863, 0.        , 0.        , 0.        ,\n",
       "       0.        , 0.        , 0.        , 0.        , 0.        ,\n",
       "       0.        , 0.        , 0.        , 0.        , 0.        ,\n",
       "       0.        , 0.        , 0.        , 0.        , 0.        ,\n",
       "       0.        , 0.        , 0.        , 0.        , 0.        ,\n",
       "       0.        , 0.        , 0.93333333, 0.98823529, 0.98823529,\n",
       "       0.07058824, 0.        , 0.        , 0.        , 0.        ,\n",
       "       0.        , 0.        , 0.        , 0.        , 0.        ,\n",
       "       0.        , 0.        , 0.        , 0.        , 0.        ,\n",
       "       0.        , 0.        , 0.        , 0.        , 0.        ,\n",
       "       0.        , 0.        , 0.        , 0.        , 0.        ,\n",
       "       0.62352941, 0.98823529, 0.98823529, 0.58431373, 0.        ,\n",
       "       0.        , 0.        , 0.        , 0.        , 0.        ,\n",
       "       0.        , 0.        , 0.        , 0.        , 0.        ,\n",
       "       0.        , 0.        , 0.        , 0.        , 0.        ,\n",
       "       0.        , 0.        , 0.        , 0.        , 0.        ,\n",
       "       0.        , 0.        , 0.        , 0.01960784, 0.76862745,\n",
       "       0.98823529, 0.58431373, 0.        , 0.        , 0.        ,\n",
       "       0.        , 0.        , 0.        , 0.        , 0.        ,\n",
       "       0.        , 0.        , 0.        , 0.        , 0.        ,\n",
       "       0.        , 0.        , 0.        , 0.        , 0.        ,\n",
       "       0.        , 0.        , 0.        , 0.        , 0.        ,\n",
       "       0.        , 0.        , 0.75686275, 0.98823529, 0.65490196,\n",
       "       0.03137255, 0.        , 0.        , 0.        , 0.        ,\n",
       "       0.        , 0.        , 0.        , 0.        , 0.        ,\n",
       "       0.        , 0.        , 0.        , 0.        , 0.        ,\n",
       "       0.        , 0.        , 0.        , 0.        , 0.        ,\n",
       "       0.        , 0.        , 0.        , 0.        , 0.        ,\n",
       "       0.41568627, 0.98823529, 0.99215686, 0.17254902, 0.        ,\n",
       "       0.        , 0.        , 0.        , 0.        , 0.        ,\n",
       "       0.        , 0.        , 0.        , 0.        , 0.        ,\n",
       "       0.        , 0.        , 0.        , 0.        , 0.        ,\n",
       "       0.        , 0.        , 0.        , 0.        , 0.        ,\n",
       "       0.        , 0.        , 0.        , 0.41960784, 0.99215686,\n",
       "       1.        , 0.41568627, 0.        , 0.        , 0.        ,\n",
       "       0.        , 0.        , 0.        , 0.        , 0.        ,\n",
       "       0.        , 0.        , 0.        , 0.        , 0.        ,\n",
       "       0.        , 0.        , 0.        , 0.        , 0.        ,\n",
       "       0.        , 0.        , 0.        , 0.        , 0.        ,\n",
       "       0.08627451, 0.81176471, 0.98823529, 0.99215686, 0.94509804,\n",
       "       0.81568627, 0.54117647, 0.23529412, 0.23529412, 0.23529412,\n",
       "       0.01568627, 0.        , 0.        , 0.        , 0.        ,\n",
       "       0.        , 0.        , 0.        , 0.        , 0.        ,\n",
       "       0.        , 0.        , 0.        , 0.        , 0.        ,\n",
       "       0.        , 0.04313725, 0.37254902, 0.76470588, 0.98823529,\n",
       "       0.98823529, 0.99215686, 0.98823529, 0.98823529, 0.98823529,\n",
       "       0.98823529, 0.98823529, 0.98823529, 0.65882353, 0.14901961,\n",
       "       0.        , 0.        , 0.        , 0.        , 0.        ,\n",
       "       0.        , 0.        , 0.        , 0.        , 0.        ,\n",
       "       0.        , 0.        , 0.        , 0.14117647, 0.83529412,\n",
       "       0.98823529, 0.98823529, 0.98823529, 0.98823529, 0.99215686,\n",
       "       0.98823529, 0.98823529, 0.98823529, 0.70980392, 0.98823529,\n",
       "       0.98823529, 0.81960784, 0.12156863, 0.        , 0.        ,\n",
       "       0.        , 0.        , 0.        , 0.        , 0.        ,\n",
       "       0.        , 0.        , 0.        , 0.        , 0.        ,\n",
       "       0.41568627, 0.90980392, 0.98823529, 0.98823529, 0.98823529,\n",
       "       0.98823529, 0.98823529, 0.45882353, 0.11372549, 0.11372549,\n",
       "       0.11372549, 0.04705882, 0.11372549, 0.11372549, 0.0745098 ,\n",
       "       0.        , 0.        , 0.        , 0.        , 0.        ,\n",
       "       0.        , 0.        , 0.        , 0.        , 0.        ,\n",
       "       0.        , 0.03137255, 0.15294118, 0.83529412, 0.98823529,\n",
       "       0.98823529, 0.98823529, 0.98823529, 0.8627451 , 0.29019608,\n",
       "       0.        , 0.        , 0.        , 0.        , 0.        ,\n",
       "       0.        , 0.        , 0.        , 0.        , 0.        ,\n",
       "       0.        , 0.        , 0.        , 0.        , 0.        ,\n",
       "       0.        , 0.        , 0.        , 0.        , 0.23529412,\n",
       "       0.98823529, 0.98823529, 0.98823529, 0.98823529, 0.98823529,\n",
       "       0.98823529, 0.81176471, 0.        , 0.        , 0.        ,\n",
       "       0.        , 0.        , 0.        , 0.        , 0.        ,\n",
       "       0.        , 0.        , 0.        , 0.        , 0.        ,\n",
       "       0.        , 0.        , 0.        , 0.        , 0.        ,\n",
       "       0.        , 0.        , 0.23529412, 0.98823529, 0.98823529,\n",
       "       0.98823529, 0.98823529, 0.98823529, 0.45098039, 0.04705882,\n",
       "       0.        , 0.        , 0.        , 0.        , 0.        ,\n",
       "       0.        , 0.        , 0.        , 0.        , 0.        ,\n",
       "       0.        , 0.        , 0.        , 0.        , 0.        ,\n",
       "       0.        , 0.        , 0.        , 0.        , 0.        ,\n",
       "       0.23529412, 0.98823529, 0.98823529, 0.98823529, 0.8627451 ,\n",
       "       0.50196078, 0.01568627, 0.        , 0.        , 0.        ,\n",
       "       0.        , 0.        , 0.        , 0.        , 0.        ,\n",
       "       0.        , 0.        , 0.        , 0.        , 0.        ,\n",
       "       0.        , 0.        , 0.        , 0.        , 0.        ,\n",
       "       0.        , 0.        , 0.        , 0.09803922, 0.78039216,\n",
       "       0.98823529, 0.81176471, 0.11764706, 0.        , 0.        ,\n",
       "       0.        , 0.        , 0.        , 0.        , 0.        ,\n",
       "       0.        , 0.        , 0.        , 0.        , 0.        ,\n",
       "       0.        , 0.        , 0.        , 0.        , 0.        ,\n",
       "       0.        , 0.        , 0.        , 0.        , 0.        ,\n",
       "       0.        , 0.        , 0.        , 0.        , 0.        ,\n",
       "       0.        , 0.        , 0.        , 0.        , 0.        ,\n",
       "       0.        , 0.        , 0.        , 0.        , 0.        ,\n",
       "       0.        , 0.        , 0.        , 0.        , 0.        ,\n",
       "       0.        , 0.        , 0.        , 0.        , 0.        ,\n",
       "       0.        , 0.        , 0.        , 0.        , 0.        ,\n",
       "       0.        , 0.        , 0.        , 0.        , 0.        ,\n",
       "       0.        , 0.        , 0.        , 0.        , 0.        ,\n",
       "       0.        , 0.        , 0.        , 0.        , 0.        ,\n",
       "       0.        , 0.        , 0.        , 0.        , 0.        ,\n",
       "       0.        , 0.        , 0.        , 0.        , 0.        ,\n",
       "       0.        , 0.        , 0.        , 0.        , 0.        ,\n",
       "       0.        , 0.        , 0.        , 0.        , 0.        ,\n",
       "       0.        , 0.        , 0.        , 0.        , 0.        ,\n",
       "       0.        , 0.        , 0.        , 0.        , 0.        ,\n",
       "       0.        , 0.        , 0.        , 0.        , 0.        ,\n",
       "       0.        , 0.        , 0.        , 0.        , 0.        ,\n",
       "       0.        , 0.        , 0.        , 0.        , 0.        ,\n",
       "       0.        , 0.        , 0.        , 0.        , 0.        ,\n",
       "       0.        , 0.        , 0.        , 0.        , 0.        ,\n",
       "       0.        , 0.        , 0.        , 0.        , 0.        ,\n",
       "       0.        , 0.        , 0.        , 0.        , 0.        ,\n",
       "       0.        , 0.        , 0.        , 0.        , 0.        ,\n",
       "       0.        , 0.        , 0.        , 0.        , 0.        ,\n",
       "       0.        , 0.        , 0.        , 0.        , 0.        ,\n",
       "       0.        , 0.        , 0.        , 0.        , 0.        ,\n",
       "       0.        , 0.        , 0.        , 0.        ])"
      ]
     },
     "execution_count": 42,
     "metadata": {},
     "output_type": "execute_result"
    }
   ],
   "source": [
    "x_train[1]\n"
   ]
  },
  {
   "cell_type": "markdown",
   "id": "3d5cf2ec-a6c4-469c-8e43-5759794f6a36",
   "metadata": {},
   "source": [
    "# CREATING ANN"
   ]
  },
  {
   "cell_type": "code",
   "execution_count": 44,
   "id": "16650b4b-40cc-4d85-88fc-de72b0611120",
   "metadata": {},
   "outputs": [],
   "source": [
    "import keras\n",
    "from keras.models import Sequential\n",
    "from keras.layers import Dense"
   ]
  },
  {
   "cell_type": "code",
   "execution_count": 45,
   "id": "3e8aa4e5-99c6-4cfe-80bf-1b5a9567d3d1",
   "metadata": {},
   "outputs": [
    {
     "data": {
      "text/plain": [
       "'2.9.0'"
      ]
     },
     "execution_count": 45,
     "metadata": {},
     "output_type": "execute_result"
    }
   ],
   "source": [
    "keras.__version__"
   ]
  },
  {
   "cell_type": "code",
   "execution_count": 46,
   "id": "e1c74e62-5912-4d27-9cf2-82f61cede1ef",
   "metadata": {},
   "outputs": [],
   "source": [
    "# INITIALIZING THE ANN\n",
    "ann_clf=Sequential() # classification problem so clf  # model will get created"
   ]
  },
  {
   "cell_type": "code",
   "execution_count": 47,
   "id": "c90d6969-f1fe-4b27-a93e-71fd96e36cee",
   "metadata": {},
   "outputs": [],
   "source": [
    "# ADDING INPUT LAYER AND FIRST HIDDEN LAYER\n",
    "ann_clf.add(Dense(activation='relu',input_dim=784,units=128,kernel_initializer='uniform'))"
   ]
  },
  {
   "cell_type": "code",
   "execution_count": 49,
   "id": "d83dce30-dd28-41cc-bf1b-cd2eaec409a0",
   "metadata": {},
   "outputs": [],
   "source": [
    "# ADDING OUTPUT LAYER      # FOR MULTICLASS CLASSIFICATION SOFTMAX IS USED # UNITS 10 AS 10 DIFFERENT DIGITS NEED TO BE PREDICTED\n",
    "ann_clf.add(Dense(activation='softmax',units=10,kernel_initializer='uniform'))"
   ]
  },
  {
   "cell_type": "markdown",
   "id": "c14b1a2f-f435-4fd7-badf-e6964c314a2a",
   "metadata": {},
   "source": [
    "# COMPILING THE MODEL"
   ]
  },
  {
   "cell_type": "code",
   "execution_count": 51,
   "id": "8212516d-7971-46b7-8cc2-1ac97e594a8f",
   "metadata": {},
   "outputs": [],
   "source": [
    "# MULTICLASS CLASSIFICATION SO LOSS=sparse_categorical\n",
    "ann_clf.compile(optimizer='adam',loss='sparse_categorical_crossentropy',metrics=['accuracy'])"
   ]
  },
  {
   "cell_type": "markdown",
   "id": "987d23fc-c470-444e-ae94-381482843ac4",
   "metadata": {},
   "source": [
    "# MODEL SUMMARY"
   ]
  },
  {
   "cell_type": "code",
   "execution_count": 53,
   "id": "a19d75d9-38af-4f3a-b305-b49be99c904b",
   "metadata": {},
   "outputs": [
    {
     "name": "stdout",
     "output_type": "stream",
     "text": [
      "Model: \"sequential\"\n",
      "_________________________________________________________________\n",
      " Layer (type)                Output Shape              Param #   \n",
      "=================================================================\n",
      " dense (Dense)               (None, 128)               100480    \n",
      "                                                                 \n",
      " dense_2 (Dense)             (None, 10)                1290      \n",
      "                                                                 \n",
      "=================================================================\n",
      "Total params: 101,770\n",
      "Trainable params: 101,770\n",
      "Non-trainable params: 0\n",
      "_________________________________________________________________\n"
     ]
    }
   ],
   "source": [
    "ann_clf.summary()  "
   ]
  },
  {
   "cell_type": "markdown",
   "id": "f072dae3-f435-4d9e-b510-24808b802841",
   "metadata": {},
   "source": [
    "# MODEL TRAINING"
   ]
  },
  {
   "cell_type": "code",
   "execution_count": 65,
   "id": "0a8fbe04-f5cb-4f9c-9287-e7a83b150740",
   "metadata": {
    "scrolled": true,
    "tags": []
   },
   "outputs": [
    {
     "name": "stdout",
     "output_type": "stream",
     "text": [
      "Epoch 1/20\n",
      "176/176 [==============================] - 1s 7ms/step - loss: 0.0086 - accuracy: 0.9998 - val_loss: 0.2015 - val_accuracy: 0.9495\n",
      "Epoch 2/20\n",
      "176/176 [==============================] - 1s 6ms/step - loss: 0.0077 - accuracy: 1.0000 - val_loss: 0.2014 - val_accuracy: 0.9502\n",
      "Epoch 3/20\n",
      "176/176 [==============================] - 1s 6ms/step - loss: 0.0063 - accuracy: 1.0000 - val_loss: 0.2070 - val_accuracy: 0.9502\n",
      "Epoch 4/20\n",
      "176/176 [==============================] - 1s 6ms/step - loss: 0.0054 - accuracy: 1.0000 - val_loss: 0.2097 - val_accuracy: 0.9488\n",
      "Epoch 5/20\n",
      "176/176 [==============================] - 1s 6ms/step - loss: 0.0048 - accuracy: 1.0000 - val_loss: 0.2128 - val_accuracy: 0.9502\n",
      "Epoch 6/20\n",
      "176/176 [==============================] - 1s 6ms/step - loss: 0.0041 - accuracy: 1.0000 - val_loss: 0.2121 - val_accuracy: 0.9492\n",
      "Epoch 7/20\n",
      "176/176 [==============================] - 1s 6ms/step - loss: 0.0035 - accuracy: 1.0000 - val_loss: 0.2225 - val_accuracy: 0.9473\n",
      "Epoch 8/20\n",
      "176/176 [==============================] - 1s 6ms/step - loss: 0.0033 - accuracy: 1.0000 - val_loss: 0.2177 - val_accuracy: 0.9495\n",
      "Epoch 9/20\n",
      "176/176 [==============================] - 1s 6ms/step - loss: 0.0028 - accuracy: 1.0000 - val_loss: 0.2215 - val_accuracy: 0.9520\n",
      "Epoch 10/20\n",
      "176/176 [==============================] - 1s 6ms/step - loss: 0.0024 - accuracy: 1.0000 - val_loss: 0.2316 - val_accuracy: 0.9492\n",
      "Epoch 11/20\n",
      "176/176 [==============================] - 1s 6ms/step - loss: 0.0021 - accuracy: 1.0000 - val_loss: 0.2254 - val_accuracy: 0.9506\n",
      "Epoch 12/20\n",
      "176/176 [==============================] - 1s 6ms/step - loss: 0.0018 - accuracy: 1.0000 - val_loss: 0.2334 - val_accuracy: 0.9481\n",
      "Epoch 13/20\n",
      "176/176 [==============================] - 1s 6ms/step - loss: 0.0017 - accuracy: 1.0000 - val_loss: 0.2340 - val_accuracy: 0.9520\n",
      "Epoch 14/20\n",
      "176/176 [==============================] - 1s 6ms/step - loss: 0.0015 - accuracy: 1.0000 - val_loss: 0.2344 - val_accuracy: 0.9510\n",
      "Epoch 15/20\n",
      "176/176 [==============================] - 1s 6ms/step - loss: 0.0013 - accuracy: 1.0000 - val_loss: 0.2353 - val_accuracy: 0.9520\n",
      "Epoch 16/20\n",
      "176/176 [==============================] - 1s 6ms/step - loss: 0.0012 - accuracy: 1.0000 - val_loss: 0.2404 - val_accuracy: 0.9506\n",
      "Epoch 17/20\n",
      "176/176 [==============================] - 1s 7ms/step - loss: 0.0010 - accuracy: 1.0000 - val_loss: 0.2421 - val_accuracy: 0.9495\n",
      "Epoch 18/20\n",
      "176/176 [==============================] - 1s 6ms/step - loss: 9.2800e-04 - accuracy: 1.0000 - val_loss: 0.2418 - val_accuracy: 0.9495\n",
      "Epoch 19/20\n",
      "176/176 [==============================] - 1s 7ms/step - loss: 8.6260e-04 - accuracy: 1.0000 - val_loss: 0.2445 - val_accuracy: 0.9517\n",
      "Epoch 20/20\n",
      "176/176 [==============================] - 1s 7ms/step - loss: 7.7751e-04 - accuracy: 1.0000 - val_loss: 0.2476 - val_accuracy: 0.9513\n"
     ]
    }
   ],
   "source": [
    "HISTORY=ann_clf.fit(x_train,y_train,validation_split=0.33,batch_size=32,epochs=20)"
   ]
  },
  {
   "cell_type": "code",
   "execution_count": 66,
   "id": "eff21b30-11b5-4c79-8f20-ced53b945418",
   "metadata": {},
   "outputs": [
    {
     "name": "stdout",
     "output_type": "stream",
     "text": [
      "1050/1050 [==============================] - 3s 3ms/step\n"
     ]
    }
   ],
   "source": [
    "y_pred=ann_clf.predict(x_test)"
   ]
  },
  {
   "cell_type": "code",
   "execution_count": 67,
   "id": "b755b29d-17ea-4769-9fee-587baa6ca209",
   "metadata": {},
   "outputs": [
    {
     "data": {
      "text/plain": [
       "array([1.9680280e-09, 1.3260558e-07, 1.1653162e-02, 7.3193078e-06,\n",
       "       2.3923413e-08, 3.9811313e-10, 7.0363092e-07, 3.8364639e-08,\n",
       "       9.8833859e-01, 5.9844581e-11], dtype=float32)"
      ]
     },
     "execution_count": 67,
     "metadata": {},
     "output_type": "execute_result"
    }
   ],
   "source": [
    "y_pred[0]"
   ]
  },
  {
   "cell_type": "code",
   "execution_count": 68,
   "id": "7c8a7fa2-cadf-40c7-9944-9a60db7237b2",
   "metadata": {},
   "outputs": [
    {
     "data": {
      "text/plain": [
       "8"
      ]
     },
     "execution_count": 68,
     "metadata": {},
     "output_type": "execute_result"
    }
   ],
   "source": [
    "np.argmax(y_pred[0])"
   ]
  },
  {
   "cell_type": "code",
   "execution_count": 69,
   "id": "8be27c9c-f828-4002-9ccd-45f7c0033dfc",
   "metadata": {},
   "outputs": [],
   "source": [
    "new_y_pred=y_pred.argmax(axis=1)"
   ]
  },
  {
   "cell_type": "code",
   "execution_count": 70,
   "id": "e4493d0a-1fc2-443e-a717-e91612430e31",
   "metadata": {},
   "outputs": [
    {
     "data": {
      "text/plain": [
       "array([8, 1, 9, ..., 8, 5, 4], dtype=int64)"
      ]
     },
     "execution_count": 70,
     "metadata": {},
     "output_type": "execute_result"
    }
   ],
   "source": [
    "new_y_pred"
   ]
  },
  {
   "cell_type": "code",
   "execution_count": 72,
   "id": "d1f3605f-8f54-496c-9dfd-ac9c4b0871f2",
   "metadata": {},
   "outputs": [
    {
     "name": "stdout",
     "output_type": "stream",
     "text": [
      "accuracy_score0.9443452380952381\n",
      "_________________________\n",
      "confusion matrix \n",
      "[[3248    0   11    5    7   11   25    4   17    6]\n",
      " [   0 3666   25   12    1    6   13   12   22    7]\n",
      " [  22    9 3136   41   52    9   27   43   34    7]\n",
      " [  13    8   50 3232    3   99    9   19   42   18]\n",
      " [   4   17   10    4 3070    4   23    7   14  106]\n",
      " [  20    9   12   62   15 2806   46    4   33   16]\n",
      " [  29    7   13    0   36   26 3161    1   15    0]\n",
      " [   6    9   27   19   24    4    1 3324   10   48]\n",
      " [  13   22   21   64   20   53   26    8 2985   41]\n",
      " [  12   12    3   51   60   16    2   50   26 3102]]\n"
     ]
    }
   ],
   "source": [
    "from sklearn.metrics import confusion_matrix , accuracy_score\n",
    "acc=accuracy_score(new_y_pred,y_test)\n",
    "print('accuracy_score'+str(acc))\n",
    "print('_________________________')\n",
    "\n",
    "cm=confusion_matrix(y_test,new_y_pred)\n",
    "print('confusion matrix \\n'+str(cm))"
   ]
  },
  {
   "cell_type": "code",
   "execution_count": 74,
   "id": "0eb53d0f-193f-4a5b-b478-d8fabe485eed",
   "metadata": {},
   "outputs": [
    {
     "name": "stdout",
     "output_type": "stream",
     "text": [
      "              precision    recall  f1-score   support\n",
      "\n",
      "           0       0.97      0.96      0.97      3367\n",
      "           1       0.97      0.98      0.97      3759\n",
      "           2       0.93      0.95      0.94      3308\n",
      "           3       0.93      0.93      0.93      3490\n",
      "           4       0.94      0.93      0.94      3288\n",
      "           5       0.93      0.92      0.93      3034\n",
      "           6       0.96      0.95      0.95      3333\n",
      "           7       0.96      0.96      0.96      3472\n",
      "           8       0.92      0.93      0.93      3198\n",
      "           9       0.93      0.93      0.93      3351\n",
      "\n",
      "    accuracy                           0.94     33600\n",
      "   macro avg       0.94      0.94      0.94     33600\n",
      "weighted avg       0.94      0.94      0.94     33600\n",
      "\n"
     ]
    }
   ],
   "source": [
    "clf_rpt=classification_report(new_y_pred,y_test)\n",
    "print(clf_rpt)\n",
    "# accuracy high loss less"
   ]
  },
  {
   "cell_type": "code",
   "execution_count": 75,
   "id": "c3389114-5619-4f20-8593-b5a4016d3252",
   "metadata": {},
   "outputs": [],
   "source": [
    "# PLOTTING TRAIN LOSS VS TEST LOSS"
   ]
  },
  {
   "cell_type": "code",
   "execution_count": 78,
   "id": "faa6eb11-20ea-4586-850d-b8a50a6865b4",
   "metadata": {},
   "outputs": [
    {
     "data": {
      "text/plain": [
       "[<matplotlib.lines.Line2D at 0x21c712a4580>]"
      ]
     },
     "execution_count": 78,
     "metadata": {},
     "output_type": "execute_result"
    },
    {
     "data": {
      "image/png": "[encoded data removed]",
      "text/plain": [
       "<Figure size 432x288 with 1 Axes>"
      ]
     },
     "metadata": {
      "needs_background": "light"
     },
     "output_type": "display_data"
    }
   ],
   "source": [
    "plt.plot(HISTORY.history['loss'])\n",
    "plt.plot(HISTORY.history['val_loss'])"
   ]
  },
  {
   "cell_type": "code",
   "execution_count": 80,
   "id": "b98d1569-63cf-4ad7-93cf-bbdec469d6de",
   "metadata": {},
   "outputs": [
    {
     "data": {
      "text/plain": [
       "[<matplotlib.lines.Line2D at 0x21c71370100>]"
      ]
     },
     "execution_count": 80,
     "metadata": {},
     "output_type": "execute_result"
    },
    {
     "data": {
      "image/png": "[encoded data removed]",
      "text/plain": [
       "<Figure size 432x288 with 1 Axes>"
      ]
     },
     "metadata": {
      "needs_background": "light"
     },
     "output_type": "display_data"
    }
   ],
   "source": [
    "plt.plot(HISTORY.history['accuracy'])\n",
    "plt.plot(HISTORY.history['val_accuracy'])"
   ]
  },
  {
   "cell_type": "code",
   "execution_count": null,
   "id": "f995f5d7-ab98-495f-9b06-cf9bfde9c5eb",
   "metadata": {},
   "outputs": [],
   "source": []
  },
  {
   "cell_type": "code",
   "execution_count": null,
   "id": "05c48d7e-b771-470b-884a-42ea45bf6c7d",
   "metadata": {},
   "outputs": [],
   "source": []
  },
  {
   "cell_type": "code",
   "execution_count": null,
   "id": "814cdd84-49f0-4f8d-a50f-21bc7b2853ea",
   "metadata": {},
   "outputs": [],
   "source": []
  },
  {
   "cell_type": "code",
   "execution_count": null,
   "id": "00215ea9-e739-4378-a809-b1fae7c7165c",
   "metadata": {},
   "outputs": [],
   "source": []
  },
  {
   "cell_type": "code",
   "execution_count": null,
   "id": "22cd048d-a084-4f3a-9d0f-7205648abca5",
   "metadata": {},
   "outputs": [],
   "source": []
  },
  {
   "cell_type": "code",
   "execution_count": null,
   "id": "835c02a5-e22c-46a5-9e05-394ed025fc8c",
   "metadata": {},
   "outputs": [],
   "source": []
  },
  {
   "cell_type": "code",
   "execution_count": null,
   "id": "a113ae61-1d8e-46e0-8a67-2c61289dea09",
   "metadata": {},
   "outputs": [],
   "source": []
  },
  {
   "cell_type": "code",
   "execution_count": null,
   "id": "21a6e6ae-730f-4fc9-8767-82be148f1e74",
   "metadata": {},
   "outputs": [],
   "source": []
  },
  {
   "cell_type": "code",
   "execution_count": null,
   "id": "ab5c32db-7e51-4e2b-864d-fa339db8f577",
   "metadata": {},
   "outputs": [],
   "source": []
  },
  {
   "cell_type": "code",
   "execution_count": null,
   "id": "3c45bc97-f50f-4930-8617-4f2e0b27214f",
   "metadata": {},
   "outputs": [],
   "source": []
  },
  {
   "cell_type": "code",
   "execution_count": null,
   "id": "15c8f0bd-1adf-4e80-968a-338e935ac870",
   "metadata": {},
   "outputs": [],
   "source": []
  },
  {
   "cell_type": "code",
   "execution_count": null,
   "id": "af481ea5-d98c-46e2-b004-a76d679998d0",
   "metadata": {},
   "outputs": [],
   "source": []
  },
  {
   "cell_type": "code",
   "execution_count": null,
   "id": "c9f28c64-4292-45c9-b688-0ad5c738f4ef",
   "metadata": {},
   "outputs": [],
   "source": []
  },
  {
   "cell_type": "code",
   "execution_count": null,
   "id": "f0345616-bb20-4d7d-9967-08ff7e2bcde3",
   "metadata": {},
   "outputs": [],
   "source": []
  },
  {
   "cell_type": "code",
   "execution_count": null,
   "id": "1816ff0c-7619-4895-925a-cb327049b9a2",
   "metadata": {},
   "outputs": [],
   "source": []
  },
  {
   "cell_type": "code",
   "execution_count": null,
   "id": "a803d6bf-2f02-44ce-8498-e77351b7bc2f",
   "metadata": {},
   "outputs": [],
   "source": []
  }
 ],
 "metadata": {
  "kernelspec": {
   "display_name": "Python 3 (ipykernel)",
   "language": "python",
   "name": "python3"
  },
  "language_info": {
   "codemirror_mode": {
    "name": "ipython",
    "version": 3
   },
   "file_extension": ".py",
   "mimetype": "text/x-python",
   "name": "python",
   "nbconvert_exporter": "python",
   "pygments_lexer": "ipython3",
   "version": "3.9.12"
  }
 },
 "nbformat": 4,
 "nbformat_minor": 5
}
